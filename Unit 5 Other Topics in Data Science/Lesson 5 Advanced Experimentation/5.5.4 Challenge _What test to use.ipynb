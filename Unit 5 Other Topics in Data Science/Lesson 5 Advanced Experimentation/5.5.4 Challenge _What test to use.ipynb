{
 "cells": [
  {
   "cell_type": "markdown",
   "metadata": {},
   "source": [
    "## Challenge: What test to use\n",
    "Using selected questions from the 2012 and 2014 editions of the European Social Survey, address the following questions. Keep track of your code and results in a Jupyter notebook or other source that you can share with your mentor. For each question, explain why you chose the approach you did.\n",
    "\n",
    "Here is the data file. And here is the codebook, with information about the variable coding and content.\n",
    "\n",
    "In this dataset, the same participants answered questions in 2012 and again 2014.\n",
    "\n",
    "Did people become less trusting from 2012 to 2014? Compute results for each country in the sample.\n",
    "Did people become happier from 2012 to 2014? Compute results for each country in the sample.\n",
    "Who reported watching more TV in 2012, men or women?\n",
    "Who was more likely to believe people were fair in 2012, people living with a partner or people living alone?\n",
    "Pick three or four of the countries in the sample and compare how often people met socially in 2014. Are there differences, and if so, which countries stand out?\n",
    "Pick three or four of the countries in the sample and compare how often people took part in social activities, relative to others their age, in 2014. Are there differences, and if so, which countries stand out?\n",
    "Submit a link to your work below."
   ]
  },
  {
   "cell_type": "code",
   "execution_count": 1,
   "metadata": {},
   "outputs": [],
   "source": [
    "import pandas as pd\n",
    "import numpy as np\n",
    "import matplotlib.pyplot as plt\n",
    "import seaborn as sns\n",
    "import scipy.stats as stats\n",
    "from statsmodels.stats.multicomp import pairwise_tukeyhsd\n",
    "%matplotlib inline"
   ]
  },
  {
   "cell_type": "code",
   "execution_count": 2,
   "metadata": {},
   "outputs": [
    {
     "data": {
      "text/plain": [
       "(8594, 13)"
      ]
     },
     "execution_count": 2,
     "metadata": {},
     "output_type": "execute_result"
    }
   ],
   "source": [
    "df = pd.read_csv('https://raw.githubusercontent.com/Thinkful-Ed/data-201-resources/master/ESS_practice_data/ESSdata_Thinkful.csv')\n",
    "df.shape"
   ]
  },
  {
   "cell_type": "code",
   "execution_count": 3,
   "metadata": {},
   "outputs": [
    {
     "data": {
      "text/html": [
       "<div>\n",
       "<style scoped>\n",
       "    .dataframe tbody tr th:only-of-type {\n",
       "        vertical-align: middle;\n",
       "    }\n",
       "\n",
       "    .dataframe tbody tr th {\n",
       "        vertical-align: top;\n",
       "    }\n",
       "\n",
       "    .dataframe thead th {\n",
       "        text-align: right;\n",
       "    }\n",
       "</style>\n",
       "<table border=\"1\" class=\"dataframe\">\n",
       "  <thead>\n",
       "    <tr style=\"text-align: right;\">\n",
       "      <th></th>\n",
       "      <th>cntry</th>\n",
       "      <th>idno</th>\n",
       "      <th>year</th>\n",
       "      <th>tvtot</th>\n",
       "      <th>ppltrst</th>\n",
       "      <th>pplfair</th>\n",
       "      <th>pplhlp</th>\n",
       "      <th>happy</th>\n",
       "      <th>sclmeet</th>\n",
       "      <th>sclact</th>\n",
       "      <th>gndr</th>\n",
       "      <th>agea</th>\n",
       "      <th>partner</th>\n",
       "    </tr>\n",
       "  </thead>\n",
       "  <tbody>\n",
       "    <tr>\n",
       "      <th>0</th>\n",
       "      <td>CH</td>\n",
       "      <td>5.0</td>\n",
       "      <td>6</td>\n",
       "      <td>3.0</td>\n",
       "      <td>3.0</td>\n",
       "      <td>10.0</td>\n",
       "      <td>5.0</td>\n",
       "      <td>8.0</td>\n",
       "      <td>5.0</td>\n",
       "      <td>4.0</td>\n",
       "      <td>2.0</td>\n",
       "      <td>60.0</td>\n",
       "      <td>1.0</td>\n",
       "    </tr>\n",
       "    <tr>\n",
       "      <th>1</th>\n",
       "      <td>CH</td>\n",
       "      <td>25.0</td>\n",
       "      <td>6</td>\n",
       "      <td>6.0</td>\n",
       "      <td>5.0</td>\n",
       "      <td>7.0</td>\n",
       "      <td>5.0</td>\n",
       "      <td>9.0</td>\n",
       "      <td>3.0</td>\n",
       "      <td>2.0</td>\n",
       "      <td>2.0</td>\n",
       "      <td>59.0</td>\n",
       "      <td>1.0</td>\n",
       "    </tr>\n",
       "    <tr>\n",
       "      <th>2</th>\n",
       "      <td>CH</td>\n",
       "      <td>26.0</td>\n",
       "      <td>6</td>\n",
       "      <td>1.0</td>\n",
       "      <td>8.0</td>\n",
       "      <td>8.0</td>\n",
       "      <td>8.0</td>\n",
       "      <td>7.0</td>\n",
       "      <td>6.0</td>\n",
       "      <td>3.0</td>\n",
       "      <td>1.0</td>\n",
       "      <td>24.0</td>\n",
       "      <td>2.0</td>\n",
       "    </tr>\n",
       "    <tr>\n",
       "      <th>3</th>\n",
       "      <td>CH</td>\n",
       "      <td>28.0</td>\n",
       "      <td>6</td>\n",
       "      <td>4.0</td>\n",
       "      <td>6.0</td>\n",
       "      <td>6.0</td>\n",
       "      <td>7.0</td>\n",
       "      <td>10.0</td>\n",
       "      <td>6.0</td>\n",
       "      <td>2.0</td>\n",
       "      <td>2.0</td>\n",
       "      <td>64.0</td>\n",
       "      <td>1.0</td>\n",
       "    </tr>\n",
       "    <tr>\n",
       "      <th>4</th>\n",
       "      <td>CH</td>\n",
       "      <td>29.0</td>\n",
       "      <td>6</td>\n",
       "      <td>5.0</td>\n",
       "      <td>6.0</td>\n",
       "      <td>7.0</td>\n",
       "      <td>5.0</td>\n",
       "      <td>8.0</td>\n",
       "      <td>7.0</td>\n",
       "      <td>2.0</td>\n",
       "      <td>2.0</td>\n",
       "      <td>55.0</td>\n",
       "      <td>1.0</td>\n",
       "    </tr>\n",
       "  </tbody>\n",
       "</table>\n",
       "</div>"
      ],
      "text/plain": [
       "  cntry  idno  year  tvtot  ppltrst  pplfair  pplhlp  happy  sclmeet  sclact  \\\n",
       "0    CH   5.0     6    3.0      3.0     10.0     5.0    8.0      5.0     4.0   \n",
       "1    CH  25.0     6    6.0      5.0      7.0     5.0    9.0      3.0     2.0   \n",
       "2    CH  26.0     6    1.0      8.0      8.0     8.0    7.0      6.0     3.0   \n",
       "3    CH  28.0     6    4.0      6.0      6.0     7.0   10.0      6.0     2.0   \n",
       "4    CH  29.0     6    5.0      6.0      7.0     5.0    8.0      7.0     2.0   \n",
       "\n",
       "   gndr  agea  partner  \n",
       "0   2.0  60.0      1.0  \n",
       "1   2.0  59.0      1.0  \n",
       "2   1.0  24.0      2.0  \n",
       "3   2.0  64.0      1.0  \n",
       "4   2.0  55.0      1.0  "
      ]
     },
     "execution_count": 3,
     "metadata": {},
     "output_type": "execute_result"
    }
   ],
   "source": [
    "df.head()"
   ]
  },
  {
   "cell_type": "code",
   "execution_count": 4,
   "metadata": {},
   "outputs": [
    {
     "data": {
      "text/html": [
       "<div>\n",
       "<style scoped>\n",
       "    .dataframe tbody tr th:only-of-type {\n",
       "        vertical-align: middle;\n",
       "    }\n",
       "\n",
       "    .dataframe tbody tr th {\n",
       "        vertical-align: top;\n",
       "    }\n",
       "\n",
       "    .dataframe thead th {\n",
       "        text-align: right;\n",
       "    }\n",
       "</style>\n",
       "<table border=\"1\" class=\"dataframe\">\n",
       "  <thead>\n",
       "    <tr style=\"text-align: right;\">\n",
       "      <th></th>\n",
       "      <th>cntry</th>\n",
       "      <th>idno</th>\n",
       "      <th>year</th>\n",
       "      <th>tvtot</th>\n",
       "      <th>ppltrst</th>\n",
       "      <th>pplfair</th>\n",
       "      <th>pplhlp</th>\n",
       "      <th>happy</th>\n",
       "      <th>sclmeet</th>\n",
       "      <th>sclact</th>\n",
       "      <th>gndr</th>\n",
       "      <th>agea</th>\n",
       "      <th>partner</th>\n",
       "    </tr>\n",
       "  </thead>\n",
       "  <tbody>\n",
       "    <tr>\n",
       "      <th>8589</th>\n",
       "      <td>SE</td>\n",
       "      <td>3729.0</td>\n",
       "      <td>7</td>\n",
       "      <td>3.0</td>\n",
       "      <td>4.0</td>\n",
       "      <td>5.0</td>\n",
       "      <td>3.0</td>\n",
       "      <td>6.0</td>\n",
       "      <td>6.0</td>\n",
       "      <td>2.0</td>\n",
       "      <td>1.0</td>\n",
       "      <td>18.0</td>\n",
       "      <td>2.0</td>\n",
       "    </tr>\n",
       "    <tr>\n",
       "      <th>8590</th>\n",
       "      <td>SE</td>\n",
       "      <td>3732.0</td>\n",
       "      <td>7</td>\n",
       "      <td>5.0</td>\n",
       "      <td>6.0</td>\n",
       "      <td>4.0</td>\n",
       "      <td>4.0</td>\n",
       "      <td>10.0</td>\n",
       "      <td>6.0</td>\n",
       "      <td>3.0</td>\n",
       "      <td>1.0</td>\n",
       "      <td>15.0</td>\n",
       "      <td>2.0</td>\n",
       "    </tr>\n",
       "    <tr>\n",
       "      <th>8591</th>\n",
       "      <td>SE</td>\n",
       "      <td>3743.0</td>\n",
       "      <td>7</td>\n",
       "      <td>4.0</td>\n",
       "      <td>5.0</td>\n",
       "      <td>7.0</td>\n",
       "      <td>6.0</td>\n",
       "      <td>8.0</td>\n",
       "      <td>6.0</td>\n",
       "      <td>3.0</td>\n",
       "      <td>1.0</td>\n",
       "      <td>44.0</td>\n",
       "      <td>2.0</td>\n",
       "    </tr>\n",
       "    <tr>\n",
       "      <th>8592</th>\n",
       "      <td>SE</td>\n",
       "      <td>3744.0</td>\n",
       "      <td>7</td>\n",
       "      <td>5.0</td>\n",
       "      <td>8.0</td>\n",
       "      <td>8.0</td>\n",
       "      <td>6.0</td>\n",
       "      <td>9.0</td>\n",
       "      <td>7.0</td>\n",
       "      <td>3.0</td>\n",
       "      <td>1.0</td>\n",
       "      <td>15.0</td>\n",
       "      <td>2.0</td>\n",
       "    </tr>\n",
       "    <tr>\n",
       "      <th>8593</th>\n",
       "      <td>SE</td>\n",
       "      <td>3746.0</td>\n",
       "      <td>7</td>\n",
       "      <td>2.0</td>\n",
       "      <td>6.0</td>\n",
       "      <td>7.0</td>\n",
       "      <td>5.0</td>\n",
       "      <td>7.0</td>\n",
       "      <td>7.0</td>\n",
       "      <td>4.0</td>\n",
       "      <td>2.0</td>\n",
       "      <td>15.0</td>\n",
       "      <td>2.0</td>\n",
       "    </tr>\n",
       "  </tbody>\n",
       "</table>\n",
       "</div>"
      ],
      "text/plain": [
       "     cntry    idno  year  tvtot  ppltrst  pplfair  pplhlp  happy  sclmeet  \\\n",
       "8589    SE  3729.0     7    3.0      4.0      5.0     3.0    6.0      6.0   \n",
       "8590    SE  3732.0     7    5.0      6.0      4.0     4.0   10.0      6.0   \n",
       "8591    SE  3743.0     7    4.0      5.0      7.0     6.0    8.0      6.0   \n",
       "8592    SE  3744.0     7    5.0      8.0      8.0     6.0    9.0      7.0   \n",
       "8593    SE  3746.0     7    2.0      6.0      7.0     5.0    7.0      7.0   \n",
       "\n",
       "      sclact  gndr  agea  partner  \n",
       "8589     2.0   1.0  18.0      2.0  \n",
       "8590     3.0   1.0  15.0      2.0  \n",
       "8591     3.0   1.0  44.0      2.0  \n",
       "8592     3.0   1.0  15.0      2.0  \n",
       "8593     4.0   2.0  15.0      2.0  "
      ]
     },
     "execution_count": 4,
     "metadata": {},
     "output_type": "execute_result"
    }
   ],
   "source": [
    "df.tail()"
   ]
  },
  {
   "cell_type": "code",
   "execution_count": 5,
   "metadata": {},
   "outputs": [
    {
     "data": {
      "text/html": [
       "<div>\n",
       "<style scoped>\n",
       "    .dataframe tbody tr th:only-of-type {\n",
       "        vertical-align: middle;\n",
       "    }\n",
       "\n",
       "    .dataframe tbody tr th {\n",
       "        vertical-align: top;\n",
       "    }\n",
       "\n",
       "    .dataframe thead th {\n",
       "        text-align: right;\n",
       "    }\n",
       "</style>\n",
       "<table border=\"1\" class=\"dataframe\">\n",
       "  <thead>\n",
       "    <tr style=\"text-align: right;\">\n",
       "      <th></th>\n",
       "      <th>idno</th>\n",
       "      <th>year</th>\n",
       "      <th>tvtot</th>\n",
       "      <th>ppltrst</th>\n",
       "      <th>pplfair</th>\n",
       "      <th>pplhlp</th>\n",
       "      <th>happy</th>\n",
       "      <th>sclmeet</th>\n",
       "      <th>sclact</th>\n",
       "      <th>gndr</th>\n",
       "      <th>agea</th>\n",
       "      <th>partner</th>\n",
       "    </tr>\n",
       "  </thead>\n",
       "  <tbody>\n",
       "    <tr>\n",
       "      <th>count</th>\n",
       "      <td>8.594000e+03</td>\n",
       "      <td>8594.000000</td>\n",
       "      <td>8586.000000</td>\n",
       "      <td>8580.000000</td>\n",
       "      <td>8555.000000</td>\n",
       "      <td>8569.000000</td>\n",
       "      <td>8563.000000</td>\n",
       "      <td>8579.000000</td>\n",
       "      <td>8500.000000</td>\n",
       "      <td>8584.000000</td>\n",
       "      <td>8355.000000</td>\n",
       "      <td>8577.000000</td>\n",
       "    </tr>\n",
       "    <tr>\n",
       "      <th>mean</th>\n",
       "      <td>3.954938e+04</td>\n",
       "      <td>6.500000</td>\n",
       "      <td>3.861985</td>\n",
       "      <td>5.559907</td>\n",
       "      <td>6.005143</td>\n",
       "      <td>5.319874</td>\n",
       "      <td>7.694616</td>\n",
       "      <td>5.192563</td>\n",
       "      <td>2.748941</td>\n",
       "      <td>1.497204</td>\n",
       "      <td>47.470736</td>\n",
       "      <td>1.384867</td>\n",
       "    </tr>\n",
       "    <tr>\n",
       "      <th>std</th>\n",
       "      <td>6.267259e+05</td>\n",
       "      <td>0.500029</td>\n",
       "      <td>2.019689</td>\n",
       "      <td>2.233700</td>\n",
       "      <td>2.129866</td>\n",
       "      <td>2.173449</td>\n",
       "      <td>1.735904</td>\n",
       "      <td>1.457643</td>\n",
       "      <td>0.905477</td>\n",
       "      <td>0.500021</td>\n",
       "      <td>18.397369</td>\n",
       "      <td>0.486592</td>\n",
       "    </tr>\n",
       "    <tr>\n",
       "      <th>min</th>\n",
       "      <td>1.000000e+00</td>\n",
       "      <td>6.000000</td>\n",
       "      <td>0.000000</td>\n",
       "      <td>0.000000</td>\n",
       "      <td>0.000000</td>\n",
       "      <td>0.000000</td>\n",
       "      <td>0.000000</td>\n",
       "      <td>1.000000</td>\n",
       "      <td>1.000000</td>\n",
       "      <td>1.000000</td>\n",
       "      <td>15.000000</td>\n",
       "      <td>1.000000</td>\n",
       "    </tr>\n",
       "    <tr>\n",
       "      <th>25%</th>\n",
       "      <td>1.052000e+03</td>\n",
       "      <td>6.000000</td>\n",
       "      <td>2.000000</td>\n",
       "      <td>4.000000</td>\n",
       "      <td>5.000000</td>\n",
       "      <td>4.000000</td>\n",
       "      <td>7.000000</td>\n",
       "      <td>4.000000</td>\n",
       "      <td>2.000000</td>\n",
       "      <td>1.000000</td>\n",
       "      <td>33.000000</td>\n",
       "      <td>1.000000</td>\n",
       "    </tr>\n",
       "    <tr>\n",
       "      <th>50%</th>\n",
       "      <td>1.714000e+03</td>\n",
       "      <td>6.500000</td>\n",
       "      <td>4.000000</td>\n",
       "      <td>6.000000</td>\n",
       "      <td>6.000000</td>\n",
       "      <td>5.000000</td>\n",
       "      <td>8.000000</td>\n",
       "      <td>6.000000</td>\n",
       "      <td>3.000000</td>\n",
       "      <td>1.000000</td>\n",
       "      <td>47.000000</td>\n",
       "      <td>1.000000</td>\n",
       "    </tr>\n",
       "    <tr>\n",
       "      <th>75%</th>\n",
       "      <td>2.745000e+03</td>\n",
       "      <td>7.000000</td>\n",
       "      <td>5.000000</td>\n",
       "      <td>7.000000</td>\n",
       "      <td>8.000000</td>\n",
       "      <td>7.000000</td>\n",
       "      <td>9.000000</td>\n",
       "      <td>6.000000</td>\n",
       "      <td>3.000000</td>\n",
       "      <td>2.000000</td>\n",
       "      <td>62.000000</td>\n",
       "      <td>2.000000</td>\n",
       "    </tr>\n",
       "    <tr>\n",
       "      <th>max</th>\n",
       "      <td>1.100143e+07</td>\n",
       "      <td>7.000000</td>\n",
       "      <td>7.000000</td>\n",
       "      <td>10.000000</td>\n",
       "      <td>10.000000</td>\n",
       "      <td>10.000000</td>\n",
       "      <td>10.000000</td>\n",
       "      <td>7.000000</td>\n",
       "      <td>5.000000</td>\n",
       "      <td>2.000000</td>\n",
       "      <td>114.000000</td>\n",
       "      <td>2.000000</td>\n",
       "    </tr>\n",
       "  </tbody>\n",
       "</table>\n",
       "</div>"
      ],
      "text/plain": [
       "               idno         year        tvtot      ppltrst      pplfair  \\\n",
       "count  8.594000e+03  8594.000000  8586.000000  8580.000000  8555.000000   \n",
       "mean   3.954938e+04     6.500000     3.861985     5.559907     6.005143   \n",
       "std    6.267259e+05     0.500029     2.019689     2.233700     2.129866   \n",
       "min    1.000000e+00     6.000000     0.000000     0.000000     0.000000   \n",
       "25%    1.052000e+03     6.000000     2.000000     4.000000     5.000000   \n",
       "50%    1.714000e+03     6.500000     4.000000     6.000000     6.000000   \n",
       "75%    2.745000e+03     7.000000     5.000000     7.000000     8.000000   \n",
       "max    1.100143e+07     7.000000     7.000000    10.000000    10.000000   \n",
       "\n",
       "            pplhlp        happy      sclmeet       sclact         gndr  \\\n",
       "count  8569.000000  8563.000000  8579.000000  8500.000000  8584.000000   \n",
       "mean      5.319874     7.694616     5.192563     2.748941     1.497204   \n",
       "std       2.173449     1.735904     1.457643     0.905477     0.500021   \n",
       "min       0.000000     0.000000     1.000000     1.000000     1.000000   \n",
       "25%       4.000000     7.000000     4.000000     2.000000     1.000000   \n",
       "50%       5.000000     8.000000     6.000000     3.000000     1.000000   \n",
       "75%       7.000000     9.000000     6.000000     3.000000     2.000000   \n",
       "max      10.000000    10.000000     7.000000     5.000000     2.000000   \n",
       "\n",
       "              agea      partner  \n",
       "count  8355.000000  8577.000000  \n",
       "mean     47.470736     1.384867  \n",
       "std      18.397369     0.486592  \n",
       "min      15.000000     1.000000  \n",
       "25%      33.000000     1.000000  \n",
       "50%      47.000000     1.000000  \n",
       "75%      62.000000     2.000000  \n",
       "max     114.000000     2.000000  "
      ]
     },
     "execution_count": 5,
     "metadata": {},
     "output_type": "execute_result"
    }
   ],
   "source": [
    "df.describe()"
   ]
  },
  {
   "cell_type": "code",
   "execution_count": 6,
   "metadata": {},
   "outputs": [
    {
     "data": {
      "text/plain": [
       "cntry       object\n",
       "idno       float64\n",
       "year         int64\n",
       "tvtot      float64\n",
       "ppltrst    float64\n",
       "pplfair    float64\n",
       "pplhlp     float64\n",
       "happy      float64\n",
       "sclmeet    float64\n",
       "sclact     float64\n",
       "gndr       float64\n",
       "agea       float64\n",
       "partner    float64\n",
       "dtype: object"
      ]
     },
     "execution_count": 6,
     "metadata": {},
     "output_type": "execute_result"
    }
   ],
   "source": [
    "df.dtypes"
   ]
  },
  {
   "cell_type": "code",
   "execution_count": 7,
   "metadata": {
    "scrolled": true
   },
   "outputs": [
    {
     "data": {
      "text/plain": [
       "cntry        0\n",
       "idno         0\n",
       "year         0\n",
       "tvtot        8\n",
       "ppltrst     14\n",
       "pplfair     39\n",
       "pplhlp      25\n",
       "happy       31\n",
       "sclmeet     15\n",
       "sclact      94\n",
       "gndr        10\n",
       "agea       239\n",
       "partner     17\n",
       "dtype: int64"
      ]
     },
     "execution_count": 7,
     "metadata": {},
     "output_type": "execute_result"
    }
   ],
   "source": [
    "df.isna().sum()"
   ]
  },
  {
   "cell_type": "code",
   "execution_count": null,
   "metadata": {},
   "outputs": [],
   "source": []
  },
  {
   "cell_type": "markdown",
   "metadata": {},
   "source": [
    "## 1. Did people become less trusting from 2012 to 2014? Compute results for each country in the sample. \n",
    "\n"
   ]
  },
  {
   "cell_type": "code",
   "execution_count": 66,
   "metadata": {},
   "outputs": [
    {
     "data": {
      "text/plain": [
       "['CH', 'CZ', 'DE', 'ES', 'NO', 'SE']"
      ]
     },
     "execution_count": 66,
     "metadata": {},
     "output_type": "execute_result"
    }
   ],
   "source": [
    "countries = df.cntry.unique().tolist()\n",
    "countries"
   ]
  },
  {
   "cell_type": "markdown",
   "metadata": {},
   "source": [
    "* year 6 = year 12\n",
    "* year 7 = year 14\n",
    "*****************\n",
    "* CH=Switzerland\n",
    "* CZ=Czech Republic\n",
    "* DE=Germany\n",
    "* ES=Spain\n",
    "* NO=Norway\n",
    "* SE=Sweden"
   ]
  },
  {
   "cell_type": "code",
   "execution_count": 67,
   "metadata": {},
   "outputs": [
    {
     "data": {
      "text/html": [
       "<div>\n",
       "<style scoped>\n",
       "    .dataframe tbody tr th:only-of-type {\n",
       "        vertical-align: middle;\n",
       "    }\n",
       "\n",
       "    .dataframe tbody tr th {\n",
       "        vertical-align: top;\n",
       "    }\n",
       "\n",
       "    .dataframe thead th {\n",
       "        text-align: right;\n",
       "    }\n",
       "</style>\n",
       "<table border=\"1\" class=\"dataframe\">\n",
       "  <thead>\n",
       "    <tr style=\"text-align: right;\">\n",
       "      <th></th>\n",
       "      <th>cntry</th>\n",
       "      <th>idno</th>\n",
       "      <th>year</th>\n",
       "      <th>tvtot</th>\n",
       "      <th>ppltrst</th>\n",
       "      <th>pplfair</th>\n",
       "      <th>pplhlp</th>\n",
       "      <th>happy</th>\n",
       "      <th>sclmeet</th>\n",
       "      <th>sclact</th>\n",
       "      <th>gndr</th>\n",
       "      <th>agea</th>\n",
       "      <th>partner</th>\n",
       "    </tr>\n",
       "  </thead>\n",
       "  <tbody>\n",
       "    <tr>\n",
       "      <th>0</th>\n",
       "      <td>CH</td>\n",
       "      <td>5.0</td>\n",
       "      <td>6</td>\n",
       "      <td>3.0</td>\n",
       "      <td>3.0</td>\n",
       "      <td>10.0</td>\n",
       "      <td>5.0</td>\n",
       "      <td>8.0</td>\n",
       "      <td>5.0</td>\n",
       "      <td>4.0</td>\n",
       "      <td>2.0</td>\n",
       "      <td>60.0</td>\n",
       "      <td>1.0</td>\n",
       "    </tr>\n",
       "    <tr>\n",
       "      <th>1</th>\n",
       "      <td>CH</td>\n",
       "      <td>25.0</td>\n",
       "      <td>6</td>\n",
       "      <td>6.0</td>\n",
       "      <td>5.0</td>\n",
       "      <td>7.0</td>\n",
       "      <td>5.0</td>\n",
       "      <td>9.0</td>\n",
       "      <td>3.0</td>\n",
       "      <td>2.0</td>\n",
       "      <td>2.0</td>\n",
       "      <td>59.0</td>\n",
       "      <td>1.0</td>\n",
       "    </tr>\n",
       "    <tr>\n",
       "      <th>2</th>\n",
       "      <td>CH</td>\n",
       "      <td>26.0</td>\n",
       "      <td>6</td>\n",
       "      <td>1.0</td>\n",
       "      <td>8.0</td>\n",
       "      <td>8.0</td>\n",
       "      <td>8.0</td>\n",
       "      <td>7.0</td>\n",
       "      <td>6.0</td>\n",
       "      <td>3.0</td>\n",
       "      <td>1.0</td>\n",
       "      <td>24.0</td>\n",
       "      <td>2.0</td>\n",
       "    </tr>\n",
       "    <tr>\n",
       "      <th>3</th>\n",
       "      <td>CH</td>\n",
       "      <td>28.0</td>\n",
       "      <td>6</td>\n",
       "      <td>4.0</td>\n",
       "      <td>6.0</td>\n",
       "      <td>6.0</td>\n",
       "      <td>7.0</td>\n",
       "      <td>10.0</td>\n",
       "      <td>6.0</td>\n",
       "      <td>2.0</td>\n",
       "      <td>2.0</td>\n",
       "      <td>64.0</td>\n",
       "      <td>1.0</td>\n",
       "    </tr>\n",
       "    <tr>\n",
       "      <th>4</th>\n",
       "      <td>CH</td>\n",
       "      <td>29.0</td>\n",
       "      <td>6</td>\n",
       "      <td>5.0</td>\n",
       "      <td>6.0</td>\n",
       "      <td>7.0</td>\n",
       "      <td>5.0</td>\n",
       "      <td>8.0</td>\n",
       "      <td>7.0</td>\n",
       "      <td>2.0</td>\n",
       "      <td>2.0</td>\n",
       "      <td>55.0</td>\n",
       "      <td>1.0</td>\n",
       "    </tr>\n",
       "  </tbody>\n",
       "</table>\n",
       "</div>"
      ],
      "text/plain": [
       "  cntry  idno  year  tvtot  ppltrst  pplfair  pplhlp  happy  sclmeet  sclact  \\\n",
       "0    CH   5.0     6    3.0      3.0     10.0     5.0    8.0      5.0     4.0   \n",
       "1    CH  25.0     6    6.0      5.0      7.0     5.0    9.0      3.0     2.0   \n",
       "2    CH  26.0     6    1.0      8.0      8.0     8.0    7.0      6.0     3.0   \n",
       "3    CH  28.0     6    4.0      6.0      6.0     7.0   10.0      6.0     2.0   \n",
       "4    CH  29.0     6    5.0      6.0      7.0     5.0    8.0      7.0     2.0   \n",
       "\n",
       "   gndr  agea  partner  \n",
       "0   2.0  60.0      1.0  \n",
       "1   2.0  59.0      1.0  \n",
       "2   1.0  24.0      2.0  \n",
       "3   2.0  64.0      1.0  \n",
       "4   2.0  55.0      1.0  "
      ]
     },
     "execution_count": 67,
     "metadata": {},
     "output_type": "execute_result"
    }
   ],
   "source": [
    "df.head()"
   ]
  },
  {
   "cell_type": "code",
   "execution_count": 68,
   "metadata": {},
   "outputs": [
    {
     "data": {
      "image/png": "[encoded data removed]",
      "text/plain": [
       "<Figure size 432x216 with 2 Axes>"
      ]
     },
     "metadata": {
      "needs_background": "light"
     },
     "output_type": "display_data"
    },
    {
     "data": {
      "image/png": "[encoded data removed]",
      "text/plain": [
       "<Figure size 432x216 with 2 Axes>"
      ]
     },
     "metadata": {
      "needs_background": "light"
     },
     "output_type": "display_data"
    },
    {
     "data": {
      "image/png": "[encoded data removed]",
      "text/plain": [
       "<Figure size 432x216 with 2 Axes>"
      ]
     },
     "metadata": {
      "needs_background": "light"
     },
     "output_type": "display_data"
    },
    {
     "data": {
      "image/png": "[encoded data removed]",
      "text/plain": [
       "<Figure size 432x216 with 2 Axes>"
      ]
     },
     "metadata": {
      "needs_background": "light"
     },
     "output_type": "display_data"
    },
    {
     "data": {
      "image/png": "[encoded data removed]",
      "text/plain": [
       "<Figure size 432x216 with 2 Axes>"
      ]
     },
     "metadata": {
      "needs_background": "light"
     },
     "output_type": "display_data"
    },
    {
     "data": {
      "image/png": "[encoded data removed]",
      "text/plain": [
       "<Figure size 432x216 with 2 Axes>"
      ]
     },
     "metadata": {
      "needs_background": "light"
     },
     "output_type": "display_data"
    }
   ],
   "source": [
    "for country in countries:\n",
    "    \n",
    "    fig, axs = plt.subplots(1, 2, figsize=(6, 3))\n",
    "\n",
    "    axs[0].hist(df['ppltrst'][(df['cntry'] == country) & (df['year']==6)].dropna())\n",
    "    axs[1].hist(df['ppltrst'][(df['cntry'] == country) & (df['year']==7)].dropna())\n",
    "\n",
    "    fig.text(0.5, 0, country, size = 20, color='r')\n",
    "    axs[0].set_title('YEAR 2012', size = 15, color='blue')\n",
    "    axs[1].set_title('YEAR 2014', size = 15, color='blue')\n",
    "    \n",
    "    plt.tight_layout()\n",
    "    plt.show()"
   ]
  },
  {
   "cell_type": "markdown",
   "metadata": {},
   "source": [
    "#### All participants experience both versions. Use Paired sample t-test or Wilcoxon signed-rank depending on distibution."
   ]
  },
  {
   "cell_type": "markdown",
   "metadata": {},
   "source": [
    "### Using a parametric paired t-test,"
   ]
  },
  {
   "cell_type": "code",
   "execution_count": 10,
   "metadata": {},
   "outputs": [
    {
     "name": "stdout",
     "output_type": "stream",
     "text": [
      "\n",
      " CH\n",
      "2012 mean: 5.68\n",
      "2014 mean: 5.75\n",
      "Ttest_relResult(statistic=-0.6586851756725737, pvalue=0.5102943511301135)\n",
      "\n",
      " CZ\n",
      "2012 mean: 4.36\n",
      "2014 mean: 4.42\n",
      "Ttest_relResult(statistic=-0.5001638336887216, pvalue=0.617129268240474)\n",
      "\n",
      " DE\n",
      "2012 mean: 5.21\n",
      "2014 mean: 5.36\n",
      "Ttest_relResult(statistic=-0.18399501804849683, pvalue=0.8568563797095805)\n",
      "\n",
      " ES\n",
      "2012 mean: 5.11\n",
      "2014 mean: 4.90\n",
      "Ttest_relResult(statistic=2.4561906976601646, pvalue=0.014181580725320272)\n",
      "\n",
      " NO\n",
      "2012 mean: 6.65\n",
      "2014 mean: 6.60\n",
      "Ttest_relResult(statistic=0.5073077081124404, pvalue=0.61209257015177)\n",
      "\n",
      " SE\n",
      "2012 mean: 6.06\n",
      "2014 mean: 6.26\n",
      "Ttest_relResult(statistic=-2.0671082026033982, pvalue=0.03900781670958545)\n"
     ]
    }
   ],
   "source": [
    "for country in countries:\n",
    "    print('\\n', country)\n",
    "    print('2012 mean: {0:.2f}'.format(df['ppltrst'][(df['cntry'] == country) & (df['year']==6)].mean()))\n",
    "    print('2014 mean: {0:.2f}'.format(df['ppltrst'][(df['cntry'] == country) & (df['year']==7)].mean()))  \n",
    "    print(stats.ttest_rel(df['ppltrst'][(df['cntry'] == country) & (df['year']==6)], \n",
    "                          df['ppltrst'][(df['cntry'] == country) & (df['year']==7)],\n",
    "                          nan_policy='omit'\n",
    "                         ))"
   ]
  },
  {
   "cell_type": "markdown",
   "metadata": {},
   "source": [
    "#### ES(Spain) & SE(Sweden) are the countries with a significant difference between year 2012 & 2014 with both pvalue=0.014 & pvalue=0.039 respectively. The trust in Spain decreases and increase in sweden."
   ]
  },
  {
   "cell_type": "markdown",
   "metadata": {},
   "source": [
    "### Use Tukey's Honest Significance Differences Test"
   ]
  },
  {
   "cell_type": "code",
   "execution_count": 11,
   "metadata": {
    "scrolled": true
   },
   "outputs": [
    {
     "name": "stdout",
     "output_type": "stream",
     "text": [
      "\n",
      "Country:  CH\n",
      "Year 6 mean:  5.677878395860285\n",
      "Year 7 mean:  5.751617076326003\n",
      "Multiple Comparison of Means - Tukey HSD, FWER=0.05\n",
      "==================================================\n",
      "group1 group2 meandiff p-adj   lower  upper reject\n",
      "--------------------------------------------------\n",
      "     6      7   0.0737 0.4977 -0.1395 0.287  False\n",
      "--------------------------------------------------\n",
      "The people of CH did not became more trusting in 2014.\n",
      "\n",
      "\n",
      "Country:  CZ\n",
      "Year 6 mean:  4.362519201228879\n",
      "Year 7 mean:  4.424657534246576\n",
      "Multiple Comparison of Means - Tukey HSD, FWER=0.05\n",
      "===================================================\n",
      "group1 group2 meandiff p-adj   lower  upper  reject\n",
      "---------------------------------------------------\n",
      "     6      7   0.0621 0.6444 -0.1937 0.3179  False\n",
      "---------------------------------------------------\n",
      "The people of CZ did not became more trusting in 2014.\n",
      "\n",
      "\n",
      "Country:  DE\n",
      "Year 6 mean:  5.214285714285714\n",
      "Year 7 mean:  5.357142857142857\n",
      "Multiple Comparison of Means - Tukey HSD, FWER=0.05\n",
      "===================================================\n",
      "group1 group2 meandiff p-adj   lower  upper  reject\n",
      "---------------------------------------------------\n",
      "     6      7   0.1429 0.8613 -1.4809 1.7666  False\n",
      "---------------------------------------------------\n",
      "The people of DE did not became more trusting in 2014.\n",
      "\n",
      "\n",
      "Country:  ES\n",
      "Year 6 mean:  5.114591920857379\n",
      "Year 7 mean:  4.895127993393889\n",
      "Multiple Comparison of Means - Tukey HSD, FWER=0.05\n",
      "===================================================\n",
      "group1 group2 meandiff p-adj  lower   upper  reject\n",
      "---------------------------------------------------\n",
      "     6      7  -0.2195 0.0127 -0.392 -0.0469   True\n",
      "---------------------------------------------------\n",
      "The people of ES did not became more trusting in 2014.\n",
      "\n",
      "\n",
      "Country:  NO\n",
      "Year 6 mean:  6.64931506849315\n",
      "Year 7 mean:  6.598630136986301\n",
      "Multiple Comparison of Means - Tukey HSD, FWER=0.05\n",
      "===================================================\n",
      "group1 group2 meandiff p-adj   lower  upper  reject\n",
      "---------------------------------------------------\n",
      "     6      7  -0.0507 0.5954 -0.2335 0.1322  False\n",
      "---------------------------------------------------\n",
      "The people of NO did not became more trusting in 2014.\n",
      "\n",
      "\n",
      "Country:  SE\n",
      "Year 6 mean:  6.058498896247241\n",
      "Year 7 mean:  6.257709251101321\n",
      "Multiple Comparison of Means - Tukey HSD, FWER=0.05\n",
      "==================================================\n",
      "group1 group2 meandiff p-adj  lower  upper  reject\n",
      "--------------------------------------------------\n",
      "     6      7   0.1992 0.0368 0.0122 0.3862   True\n",
      "--------------------------------------------------\n",
      "The people of SE became more trusting in 2014.\n",
      "\n"
     ]
    }
   ],
   "source": [
    "np.set_printoptions(threshold=np.inf)\n",
    "countries = df.cntry.unique()\n",
    "for country in countries:\n",
    "    country_df = df[df.cntry == country]\n",
    "    country_df = country_df[np.isfinite(country_df['ppltrst'])]\n",
    "    trusting = np.asarray(country_df['ppltrst'].tolist())\n",
    "    year = np.asarray(country_df['year'])\n",
    "\n",
    "    tukey = pairwise_tukeyhsd(endog=trusting,      # Data\n",
    "                              groups=year,   # Groups\n",
    "                              alpha=0.05)         # Significance level\n",
    "    \n",
    "    print('\\nCountry: ', country)\n",
    "    year6_mean = country_df[country_df.year == 6]['ppltrst'].mean()\n",
    "    year7_mean = country_df[country_df.year == 7]['ppltrst'].mean()\n",
    "    print('Year 6 mean: ', year6_mean)\n",
    "    print('Year 7 mean: ', year7_mean)\n",
    "    print(tukey.summary())\n",
    "    if (year7_mean > year6_mean) & (tukey.reject == True):\n",
    "        print('The people of {} became more trusting in 2014.\\n'.format(country))\n",
    "    else:\n",
    "        print('The people of {} did not became more trusting in 2014.\\n'.format(country))"
   ]
  },
  {
   "cell_type": "markdown",
   "metadata": {},
   "source": [
    "#### Using Tukey, The trust in Spain decreases while the trust in Sweden increase from year 2012-2014. Other countries has no significant difference, no changes in trust."
   ]
  },
  {
   "cell_type": "markdown",
   "metadata": {},
   "source": [
    "### Use Non-normality function for De(Germany)"
   ]
  },
  {
   "cell_type": "code",
   "execution_count": 12,
   "metadata": {},
   "outputs": [
    {
     "data": {
      "text/plain": [
       "<function scipy.stats.morestats.wilcoxon(x, y=None, zero_method='wilcox', correction=False)>"
      ]
     },
     "execution_count": 12,
     "metadata": {},
     "output_type": "execute_result"
    }
   ],
   "source": [
    "stats.wilcoxon"
   ]
  },
  {
   "cell_type": "code",
   "execution_count": 69,
   "metadata": {},
   "outputs": [
    {
     "name": "stdout",
     "output_type": "stream",
     "text": [
      "DE non-parametric\n",
      "2012 median: 5.00\n",
      "2014 median: 5.50\n",
      "WilcoxonResult(statistic=130719.5, pvalue=0.028545290985536906)\n"
     ]
    },
    {
     "name": "stderr",
     "output_type": "stream",
     "text": [
      "C:\\Users\\catan\\.conda\\envs\\catanEnv\\lib\\site-packages\\scipy\\stats\\morestats.py:2391: RuntimeWarning: invalid value encountered in greater\n",
      "  r_plus = np.sum((d > 0) * r, axis=0)\n",
      "C:\\Users\\catan\\.conda\\envs\\catanEnv\\lib\\site-packages\\scipy\\stats\\morestats.py:2392: RuntimeWarning: invalid value encountered in less\n",
      "  r_minus = np.sum((d < 0) * r, axis=0)\n"
     ]
    }
   ],
   "source": [
    "print('DE non-parametric')\n",
    "print('2012 median: {0:.2f}'.format(df['ppltrst'][(df['cntry'] == 'DE') & (df['year']==6)].median()))\n",
    "print('2014 median: {0:.2f}'.format(df['ppltrst'][(df['cntry'] == 'DE') & (df['year']==7)].median()))  \n",
    "print(stats.wilcoxon(df['ppltrst'][(df['cntry'] == country) & (df['year']==6)], \n",
    "                     df['ppltrst'][(df['cntry'] == country) & (df['year']==7)],\n",
    "                     zero_method='wilcox'\n",
    "                    ))"
   ]
  },
  {
   "cell_type": "markdown",
   "metadata": {},
   "source": [
    "#### Using the non-normality function, there was a significant difference between the trust in year2012 & year2014 and the trust was increase for country Germany."
   ]
  },
  {
   "cell_type": "markdown",
   "metadata": {},
   "source": [
    "### 2. Did people become happier from 2012 to 2014? Compute results for each country in the sample."
   ]
  },
  {
   "cell_type": "code",
   "execution_count": 14,
   "metadata": {},
   "outputs": [
    {
     "data": {
      "image/png": "[encoded data removed]",
      "text/plain": [
       "<Figure size 432x216 with 2 Axes>"
      ]
     },
     "metadata": {
      "needs_background": "light"
     },
     "output_type": "display_data"
    },
    {
     "data": {
      "image/png": "[encoded data removed]",
      "text/plain": [
       "<Figure size 432x216 with 2 Axes>"
      ]
     },
     "metadata": {
      "needs_background": "light"
     },
     "output_type": "display_data"
    },
    {
     "data": {
      "image/png": "[encoded data removed]",
      "text/plain": [
       "<Figure size 432x216 with 2 Axes>"
      ]
     },
     "metadata": {
      "needs_background": "light"
     },
     "output_type": "display_data"
    },
    {
     "data": {
      "image/png": "[encoded data removed]",
      "text/plain": [
       "<Figure size 432x216 with 2 Axes>"
      ]
     },
     "metadata": {
      "needs_background": "light"
     },
     "output_type": "display_data"
    },
    {
     "data": {
      "image/png": "[encoded data removed]",
      "text/plain": [
       "<Figure size 432x216 with 2 Axes>"
      ]
     },
     "metadata": {
      "needs_background": "light"
     },
     "output_type": "display_data"
    },
    {
     "data": {
      "image/png": "[encoded data removed]",
      "text/plain": [
       "<Figure size 432x216 with 2 Axes>"
      ]
     },
     "metadata": {
      "needs_background": "light"
     },
     "output_type": "display_data"
    }
   ],
   "source": [
    "for country in countries:\n",
    "    \n",
    "    fig, axs = plt.subplots(1, 2, figsize=(6, 3))\n",
    "\n",
    "    axs[0].hist(df['happy'][(df['cntry'] == country) & (df['year']==6)].dropna())\n",
    "    axs[1].hist(df['happy'][(df['cntry'] == country) & (df['year']==7)].dropna())\n",
    "\n",
    "    fig.text(0.5, 0, country, size = 20, color='r')\n",
    "    axs[0].set_title('2012', size = 15, color='blue')\n",
    "    axs[1].set_title('2014', size = 15, color='blue')\n",
    "    \n",
    "    plt.tight_layout()\n",
    "    plt.show()"
   ]
  },
  {
   "cell_type": "markdown",
   "metadata": {},
   "source": [
    "#### Shown in the plot that the data skewed to the left, we used the non-parametric"
   ]
  },
  {
   "cell_type": "code",
   "execution_count": 15,
   "metadata": {},
   "outputs": [
    {
     "name": "stdout",
     "output_type": "stream",
     "text": [
      "Non-parametric\n",
      "\n",
      " CH\n",
      "2012 median: 8.00\n",
      "2014 median: 8.00\n",
      "WilcoxonResult(statistic=92816.5, pvalue=0.8208688161425343)\n",
      "\n",
      " CZ\n",
      "2012 median: 7.00\n",
      "2014 median: 7.00\n",
      "WilcoxonResult(statistic=73213.0, pvalue=0.01064243454053068)\n",
      "\n",
      " DE\n",
      "2012 median: 8.00\n",
      "2014 median: 8.00\n",
      "WilcoxonResult(statistic=23.5, pvalue=0.393351316918508)\n",
      "\n",
      " ES\n",
      "2012 median: 8.00\n",
      "2014 median: 8.00\n",
      "WilcoxonResult(statistic=231958.5, pvalue=0.04923868084306013)\n",
      "\n",
      " NO\n",
      "2012 median: 8.00\n",
      "2014 median: 8.00\n",
      "WilcoxonResult(statistic=67571.5, pvalue=2.7264367804254175e-06)\n",
      "\n",
      " SE\n",
      "2012 median: 8.00\n",
      "2014 median: 8.00\n",
      "WilcoxonResult(statistic=125481.0, pvalue=0.5136403441005022)\n"
     ]
    }
   ],
   "source": [
    "print('Non-parametric')\n",
    "for country in countries:\n",
    "    print('\\n', country)\n",
    "    print('2012 median: {0:.2f}'.format(df['happy'][(df['cntry'] == country) & (df['year']==6)].median()))\n",
    "    print('2014 median: {0:.2f}'.format(df['happy'][(df['cntry'] == country) & (df['year']==7)].median()))  \n",
    "    print(stats.wilcoxon(df['happy'][(df['cntry'] == country) & (df['year']==6)], \n",
    "                         df['happy'][(df['cntry'] == country) & (df['year']==7)],\n",
    "                         zero_method='wilcox'\n",
    "                        ))"
   ]
  },
  {
   "cell_type": "markdown",
   "metadata": {},
   "source": [
    "#### CZ and ES had significant difference in happiness between 2012 & 2014. The median is the same in value so we can not say if happiness increase or decrease."
   ]
  },
  {
   "cell_type": "markdown",
   "metadata": {},
   "source": [
    "### Compare to parametric paired T-test:"
   ]
  },
  {
   "cell_type": "code",
   "execution_count": 16,
   "metadata": {},
   "outputs": [
    {
     "name": "stdout",
     "output_type": "stream",
     "text": [
      "Parametric\n",
      "\n",
      " CH\n",
      "2012 mean: 8.09\n",
      "2014 mean: 8.12\n",
      "Ttest_relResult(statistic=-0.319412957862232, pvalue=0.7495001355429063)\n",
      "\n",
      " CZ\n",
      "2012 mean: 6.77\n",
      "2014 mean: 6.91\n",
      "Ttest_relResult(statistic=-1.4561384833039597, pvalue=0.1458454843389451)\n",
      "\n",
      " DE\n",
      "2012 mean: 7.43\n",
      "2014 mean: 7.86\n",
      "Ttest_relResult(statistic=-0.8062257748298549, pvalue=0.4346138707734991)\n",
      "\n",
      " ES\n",
      "2012 mean: 7.55\n",
      "2014 mean: 7.42\n",
      "Ttest_relResult(statistic=1.613832417735418, pvalue=0.10682451556479494)\n",
      "\n",
      " NO\n",
      "2012 mean: 8.25\n",
      "2014 mean: 7.92\n",
      "Ttest_relResult(statistic=4.2856826576235925, pvalue=2.067453013405473e-05)\n",
      "\n",
      " SE\n",
      "2012 mean: 7.91\n",
      "2014 mean: 7.95\n",
      "Ttest_relResult(statistic=-0.5581637086030012, pvalue=0.5768709591233714)\n"
     ]
    }
   ],
   "source": [
    "print('Parametric')\n",
    "for country in countries:\n",
    "    print('\\n', country)\n",
    "    print('2012 mean: {0:.2f}'.format(df['happy'][(df['cntry'] == country) & (df['year']==6)].mean()))\n",
    "    print('2014 mean: {0:.2f}'.format(df['happy'][(df['cntry'] == country) & (df['year']==7)].mean()))  \n",
    "    print(stats.ttest_rel(df['happy'][(df['cntry'] == country) & (df['year']==6)], \n",
    "                          df['happy'][(df['cntry'] == country) & (df['year']==7)],\n",
    "                          nan_policy='omit'\n",
    "                         ))"
   ]
  },
  {
   "cell_type": "markdown",
   "metadata": {},
   "source": [
    "#### When using parametric t-test,  No changes in happiness between yr2012 & 2014."
   ]
  },
  {
   "cell_type": "markdown",
   "metadata": {},
   "source": [
    "### 3. Who reported watching more TV in 2012, men or women?\n",
    "\n",
    "Independent t-test for normal(ish) distributions"
   ]
  },
  {
   "cell_type": "code",
   "execution_count": 19,
   "metadata": {
    "scrolled": true
   },
   "outputs": [
    {
     "data": {
      "text/html": [
       "<div>\n",
       "<style scoped>\n",
       "    .dataframe tbody tr th:only-of-type {\n",
       "        vertical-align: middle;\n",
       "    }\n",
       "\n",
       "    .dataframe tbody tr th {\n",
       "        vertical-align: top;\n",
       "    }\n",
       "\n",
       "    .dataframe thead th {\n",
       "        text-align: right;\n",
       "    }\n",
       "</style>\n",
       "<table border=\"1\" class=\"dataframe\">\n",
       "  <thead>\n",
       "    <tr style=\"text-align: right;\">\n",
       "      <th></th>\n",
       "      <th>cntry</th>\n",
       "      <th>idno</th>\n",
       "      <th>year</th>\n",
       "      <th>tvtot</th>\n",
       "      <th>ppltrst</th>\n",
       "      <th>pplfair</th>\n",
       "      <th>pplhlp</th>\n",
       "      <th>happy</th>\n",
       "      <th>sclmeet</th>\n",
       "      <th>sclact</th>\n",
       "      <th>gndr</th>\n",
       "      <th>agea</th>\n",
       "      <th>partner</th>\n",
       "    </tr>\n",
       "  </thead>\n",
       "  <tbody>\n",
       "    <tr>\n",
       "      <th>0</th>\n",
       "      <td>CH</td>\n",
       "      <td>5.0</td>\n",
       "      <td>6</td>\n",
       "      <td>3.0</td>\n",
       "      <td>3.0</td>\n",
       "      <td>10.0</td>\n",
       "      <td>5.0</td>\n",
       "      <td>8.0</td>\n",
       "      <td>5.0</td>\n",
       "      <td>4.0</td>\n",
       "      <td>2.0</td>\n",
       "      <td>60.0</td>\n",
       "      <td>1.0</td>\n",
       "    </tr>\n",
       "    <tr>\n",
       "      <th>1</th>\n",
       "      <td>CH</td>\n",
       "      <td>25.0</td>\n",
       "      <td>6</td>\n",
       "      <td>6.0</td>\n",
       "      <td>5.0</td>\n",
       "      <td>7.0</td>\n",
       "      <td>5.0</td>\n",
       "      <td>9.0</td>\n",
       "      <td>3.0</td>\n",
       "      <td>2.0</td>\n",
       "      <td>2.0</td>\n",
       "      <td>59.0</td>\n",
       "      <td>1.0</td>\n",
       "    </tr>\n",
       "    <tr>\n",
       "      <th>2</th>\n",
       "      <td>CH</td>\n",
       "      <td>26.0</td>\n",
       "      <td>6</td>\n",
       "      <td>1.0</td>\n",
       "      <td>8.0</td>\n",
       "      <td>8.0</td>\n",
       "      <td>8.0</td>\n",
       "      <td>7.0</td>\n",
       "      <td>6.0</td>\n",
       "      <td>3.0</td>\n",
       "      <td>1.0</td>\n",
       "      <td>24.0</td>\n",
       "      <td>2.0</td>\n",
       "    </tr>\n",
       "    <tr>\n",
       "      <th>3</th>\n",
       "      <td>CH</td>\n",
       "      <td>28.0</td>\n",
       "      <td>6</td>\n",
       "      <td>4.0</td>\n",
       "      <td>6.0</td>\n",
       "      <td>6.0</td>\n",
       "      <td>7.0</td>\n",
       "      <td>10.0</td>\n",
       "      <td>6.0</td>\n",
       "      <td>2.0</td>\n",
       "      <td>2.0</td>\n",
       "      <td>64.0</td>\n",
       "      <td>1.0</td>\n",
       "    </tr>\n",
       "    <tr>\n",
       "      <th>4</th>\n",
       "      <td>CH</td>\n",
       "      <td>29.0</td>\n",
       "      <td>6</td>\n",
       "      <td>5.0</td>\n",
       "      <td>6.0</td>\n",
       "      <td>7.0</td>\n",
       "      <td>5.0</td>\n",
       "      <td>8.0</td>\n",
       "      <td>7.0</td>\n",
       "      <td>2.0</td>\n",
       "      <td>2.0</td>\n",
       "      <td>55.0</td>\n",
       "      <td>1.0</td>\n",
       "    </tr>\n",
       "  </tbody>\n",
       "</table>\n",
       "</div>"
      ],
      "text/plain": [
       "  cntry  idno  year  tvtot  ppltrst  pplfair  pplhlp  happy  sclmeet  sclact  \\\n",
       "0    CH   5.0     6    3.0      3.0     10.0     5.0    8.0      5.0     4.0   \n",
       "1    CH  25.0     6    6.0      5.0      7.0     5.0    9.0      3.0     2.0   \n",
       "2    CH  26.0     6    1.0      8.0      8.0     8.0    7.0      6.0     3.0   \n",
       "3    CH  28.0     6    4.0      6.0      6.0     7.0   10.0      6.0     2.0   \n",
       "4    CH  29.0     6    5.0      6.0      7.0     5.0    8.0      7.0     2.0   \n",
       "\n",
       "   gndr  agea  partner  \n",
       "0   2.0  60.0      1.0  \n",
       "1   2.0  59.0      1.0  \n",
       "2   1.0  24.0      2.0  \n",
       "3   2.0  64.0      1.0  \n",
       "4   2.0  55.0      1.0  "
      ]
     },
     "execution_count": 19,
     "metadata": {},
     "output_type": "execute_result"
    }
   ],
   "source": [
    "df.head()\n",
    "# gender 1 = male\n",
    "# gender 2 = female\n",
    "# yr 6 = yr12"
   ]
  },
  {
   "cell_type": "code",
   "execution_count": 20,
   "metadata": {},
   "outputs": [
    {
     "data": {
      "text/plain": [
       "array([ 3.,  6.,  1.,  4.,  5.,  2.,  0.,  7., nan])"
      ]
     },
     "execution_count": 20,
     "metadata": {},
     "output_type": "execute_result"
    }
   ],
   "source": [
    "df.tvtot.unique()"
   ]
  },
  {
   "cell_type": "code",
   "execution_count": 21,
   "metadata": {},
   "outputs": [
    {
     "data": {
      "text/plain": [
       "array([ 2.,  1., nan])"
      ]
     },
     "execution_count": 21,
     "metadata": {},
     "output_type": "execute_result"
    }
   ],
   "source": [
    "df.gndr.unique()"
   ]
  },
  {
   "cell_type": "code",
   "execution_count": 70,
   "metadata": {},
   "outputs": [
    {
     "data": {
      "image/png": "[encoded data removed]",
      "text/plain": [
       "<Figure size 432x216 with 2 Axes>"
      ]
     },
     "metadata": {
      "needs_background": "light"
     },
     "output_type": "display_data"
    }
   ],
   "source": [
    "male = df['tvtot'][(df['gndr'] == 1.0) & (df['year'] == 6)]\n",
    "female = df['tvtot'][(df['gndr'] == 2.0) & (df['year'] == 6)]\n",
    "\n",
    "fig, axs = plt.subplots(1, 2, figsize=(6, 3))\n",
    "\n",
    "axs[0].hist(male.dropna())\n",
    "axs[1].hist(female.dropna())\n",
    "\n",
    "fig.text(0.4, 0, '2012 TV Total',  size = 20, color='r')\n",
    "axs[0].set_title('Male',  size = 15, color='blue')\n",
    "axs[1].set_title('Female',  size = 15, color='blue')\n",
    "    \n",
    "plt.tight_layout()\n",
    "plt.show()"
   ]
  },
  {
   "cell_type": "code",
   "execution_count": 24,
   "metadata": {},
   "outputs": [
    {
     "data": {
      "text/plain": [
       "<function scipy.stats.stats.ttest_ind(a, b, axis=0, equal_var=True, nan_policy='propagate')>"
      ]
     },
     "execution_count": 24,
     "metadata": {},
     "output_type": "execute_result"
    }
   ],
   "source": [
    "stats.ttest_ind"
   ]
  },
  {
   "cell_type": "code",
   "execution_count": 74,
   "metadata": {},
   "outputs": [
    {
     "name": "stdout",
     "output_type": "stream",
     "text": [
      "Male mean: 3.90\n",
      "Female mean: 3.94\n",
      "Ttest_indResult(statistic=-0.6899928109209502, pvalue=0.49023604027095813)\n"
     ]
    }
   ],
   "source": [
    "print('Male mean: {0:.2f}'.format(male.mean()))\n",
    "print('Female mean: {0:.2f}'.format(female.mean()))  \n",
    "print(stats.ttest_ind(male, \n",
    "                    female,\n",
    "                    nan_policy='omit'\n",
    "                    ))"
   ]
  },
  {
   "cell_type": "markdown",
   "metadata": {},
   "source": [
    "#### There is no significant difference in watching movie between men & women in 2012."
   ]
  },
  {
   "cell_type": "markdown",
   "metadata": {},
   "source": [
    "### Use non-parametric"
   ]
  },
  {
   "cell_type": "code",
   "execution_count": 71,
   "metadata": {},
   "outputs": [
    {
     "data": {
      "text/plain": [
       "<function scipy.stats.stats.kruskal(*args, **kwargs)>"
      ]
     },
     "execution_count": 71,
     "metadata": {},
     "output_type": "execute_result"
    }
   ],
   "source": [
    "stats.kruskal"
   ]
  },
  {
   "cell_type": "code",
   "execution_count": 77,
   "metadata": {},
   "outputs": [
    {
     "name": "stdout",
     "output_type": "stream",
     "text": [
      "2158.5\n",
      "2134.5\n",
      "\n",
      "\n",
      "KruskalResult(statistic=2.4779756437672162, pvalue=0.11545076240534108)\n",
      "\n",
      "There is no statistically significant difference between male and female TV habits\n"
     ]
    }
   ],
   "source": [
    "#tv_df = pd.DataFrame()\n",
    "\n",
    "men_2012 = df[df.gndr == 1.0]\n",
    "women_2012 = df[df.gndr == 2.0]\n",
    "\n",
    "men_ranks = stats.rankdata(men_2012['tvtot'].tolist())\n",
    "women_ranks = stats.rankdata(women_2012['tvtot'].tolist())\n",
    "\n",
    "print(men_ranks.mean())\n",
    "print(women_ranks.mean())\n",
    " \n",
    "tv_means = stats.kruskal(men_2012['tvtot'], women_2012['tvtot'], nan_policy='omit' )\n",
    "\n",
    "print('\\n')\n",
    "print(tv_means)\n",
    "\n",
    "if tv_means.pvalue > 0.05:\n",
    "    print('\\nThere is no statistically significant difference between male and female TV habits')"
   ]
  },
  {
   "cell_type": "markdown",
   "metadata": {},
   "source": [
    "### 4. Who was more likely to believe people were fair in 2012, people living with a partner or people living alone?"
   ]
  },
  {
   "cell_type": "code",
   "execution_count": 26,
   "metadata": {},
   "outputs": [
    {
     "data": {
      "text/html": [
       "<div>\n",
       "<style scoped>\n",
       "    .dataframe tbody tr th:only-of-type {\n",
       "        vertical-align: middle;\n",
       "    }\n",
       "\n",
       "    .dataframe tbody tr th {\n",
       "        vertical-align: top;\n",
       "    }\n",
       "\n",
       "    .dataframe thead th {\n",
       "        text-align: right;\n",
       "    }\n",
       "</style>\n",
       "<table border=\"1\" class=\"dataframe\">\n",
       "  <thead>\n",
       "    <tr style=\"text-align: right;\">\n",
       "      <th></th>\n",
       "      <th>cntry</th>\n",
       "      <th>idno</th>\n",
       "      <th>year</th>\n",
       "      <th>tvtot</th>\n",
       "      <th>ppltrst</th>\n",
       "      <th>pplfair</th>\n",
       "      <th>pplhlp</th>\n",
       "      <th>happy</th>\n",
       "      <th>sclmeet</th>\n",
       "      <th>sclact</th>\n",
       "      <th>gndr</th>\n",
       "      <th>agea</th>\n",
       "      <th>partner</th>\n",
       "    </tr>\n",
       "  </thead>\n",
       "  <tbody>\n",
       "    <tr>\n",
       "      <th>0</th>\n",
       "      <td>CH</td>\n",
       "      <td>5.0</td>\n",
       "      <td>6</td>\n",
       "      <td>3.0</td>\n",
       "      <td>3.0</td>\n",
       "      <td>10.0</td>\n",
       "      <td>5.0</td>\n",
       "      <td>8.0</td>\n",
       "      <td>5.0</td>\n",
       "      <td>4.0</td>\n",
       "      <td>2.0</td>\n",
       "      <td>60.0</td>\n",
       "      <td>1.0</td>\n",
       "    </tr>\n",
       "    <tr>\n",
       "      <th>1</th>\n",
       "      <td>CH</td>\n",
       "      <td>25.0</td>\n",
       "      <td>6</td>\n",
       "      <td>6.0</td>\n",
       "      <td>5.0</td>\n",
       "      <td>7.0</td>\n",
       "      <td>5.0</td>\n",
       "      <td>9.0</td>\n",
       "      <td>3.0</td>\n",
       "      <td>2.0</td>\n",
       "      <td>2.0</td>\n",
       "      <td>59.0</td>\n",
       "      <td>1.0</td>\n",
       "    </tr>\n",
       "    <tr>\n",
       "      <th>2</th>\n",
       "      <td>CH</td>\n",
       "      <td>26.0</td>\n",
       "      <td>6</td>\n",
       "      <td>1.0</td>\n",
       "      <td>8.0</td>\n",
       "      <td>8.0</td>\n",
       "      <td>8.0</td>\n",
       "      <td>7.0</td>\n",
       "      <td>6.0</td>\n",
       "      <td>3.0</td>\n",
       "      <td>1.0</td>\n",
       "      <td>24.0</td>\n",
       "      <td>2.0</td>\n",
       "    </tr>\n",
       "    <tr>\n",
       "      <th>3</th>\n",
       "      <td>CH</td>\n",
       "      <td>28.0</td>\n",
       "      <td>6</td>\n",
       "      <td>4.0</td>\n",
       "      <td>6.0</td>\n",
       "      <td>6.0</td>\n",
       "      <td>7.0</td>\n",
       "      <td>10.0</td>\n",
       "      <td>6.0</td>\n",
       "      <td>2.0</td>\n",
       "      <td>2.0</td>\n",
       "      <td>64.0</td>\n",
       "      <td>1.0</td>\n",
       "    </tr>\n",
       "    <tr>\n",
       "      <th>4</th>\n",
       "      <td>CH</td>\n",
       "      <td>29.0</td>\n",
       "      <td>6</td>\n",
       "      <td>5.0</td>\n",
       "      <td>6.0</td>\n",
       "      <td>7.0</td>\n",
       "      <td>5.0</td>\n",
       "      <td>8.0</td>\n",
       "      <td>7.0</td>\n",
       "      <td>2.0</td>\n",
       "      <td>2.0</td>\n",
       "      <td>55.0</td>\n",
       "      <td>1.0</td>\n",
       "    </tr>\n",
       "  </tbody>\n",
       "</table>\n",
       "</div>"
      ],
      "text/plain": [
       "  cntry  idno  year  tvtot  ppltrst  pplfair  pplhlp  happy  sclmeet  sclact  \\\n",
       "0    CH   5.0     6    3.0      3.0     10.0     5.0    8.0      5.0     4.0   \n",
       "1    CH  25.0     6    6.0      5.0      7.0     5.0    9.0      3.0     2.0   \n",
       "2    CH  26.0     6    1.0      8.0      8.0     8.0    7.0      6.0     3.0   \n",
       "3    CH  28.0     6    4.0      6.0      6.0     7.0   10.0      6.0     2.0   \n",
       "4    CH  29.0     6    5.0      6.0      7.0     5.0    8.0      7.0     2.0   \n",
       "\n",
       "   gndr  agea  partner  \n",
       "0   2.0  60.0      1.0  \n",
       "1   2.0  59.0      1.0  \n",
       "2   1.0  24.0      2.0  \n",
       "3   2.0  64.0      1.0  \n",
       "4   2.0  55.0      1.0  "
      ]
     },
     "execution_count": 26,
     "metadata": {},
     "output_type": "execute_result"
    }
   ],
   "source": [
    "df.head()\n",
    "#partner 1 = lives with someone\n",
    "#partner 2 = lives alone\n",
    "# yr 6 = yr2012"
   ]
  },
  {
   "cell_type": "code",
   "execution_count": 27,
   "metadata": {},
   "outputs": [
    {
     "data": {
      "image/png": "[encoded data removed]",
      "text/plain": [
       "<Figure size 432x216 with 2 Axes>"
      ]
     },
     "metadata": {
      "needs_background": "light"
     },
     "output_type": "display_data"
    }
   ],
   "source": [
    "with_partner = df['pplfair'][(df['partner']==1.0) & (df['year']==6)]\n",
    "alone = df['pplfair'][(df['partner']==2.0) & (df['year']==6)]\n",
    "\n",
    "fig, axs = plt.subplots(1, 2, figsize=(6, 3))\n",
    "\n",
    "axs[0].hist(with_partner.dropna())\n",
    "axs[1].hist(alone.dropna())\n",
    "\n",
    "fig.text(0.3, 0, '2012 FAIRNESS', size = 20, color='r')\n",
    "axs[0].set_title('LIVE WITH PARTNER', size = 15, color='b')\n",
    "axs[1].set_title('LIVE ALONE', size = 15, color='b')\n",
    "\n",
    "plt.tight_layout()\n",
    "plt.show()"
   ]
  },
  {
   "cell_type": "code",
   "execution_count": 28,
   "metadata": {},
   "outputs": [
    {
     "name": "stdout",
     "output_type": "stream",
     "text": [
      "PEOPLE LIVE PARTHNER MEAN: 6.080736\n",
      "LIVE ALONE MEAN: 5.856965\n",
      "Ttest_indResult(statistic=3.3201033970362084, pvalue=0.0009073952609876207)\n"
     ]
    }
   ],
   "source": [
    "print('PEOPLE LIVE PARTHNER MEAN: {0:3f}'.format(with_partner.mean()))\n",
    "print('LIVE ALONE MEAN: {0:3f}'.format(alone.mean()))\n",
    "print(stats.ttest_ind(with_partner,\n",
    "                     alone, \n",
    "                     nan_policy = 'omit'))"
   ]
  },
  {
   "cell_type": "markdown",
   "metadata": {},
   "source": [
    "#### People live with partner believes that people were fair in 2012.  "
   ]
  },
  {
   "cell_type": "markdown",
   "metadata": {},
   "source": [
    "### Use non-parametric"
   ]
  },
  {
   "cell_type": "code",
   "execution_count": 85,
   "metadata": {},
   "outputs": [
    {
     "name": "stdout",
     "output_type": "stream",
     "text": [
      "2638.5\n",
      "1651.0\n",
      "\n",
      "\n",
      "KruskalResult(statistic=13.798140191900169, pvalue=0.00020353761312822788)\n",
      "\n",
      "There is statistically significant difference of belief if people are fair in 2012 between of married and single\n"
     ]
    }
   ],
   "source": [
    "with_partner = df[df.partner == 1.0]\n",
    "alone = df[df.partner == 2.0]\n",
    "\n",
    "with_partner_ranks = stats.rankdata(with_partner['pplfair'].tolist())\n",
    "alone_ranks = stats.rankdata(alone['pplfair'].tolist())\n",
    "\n",
    "print(with_partner_ranks.mean())\n",
    "print(alone_ranks.mean())\n",
    " \n",
    "fair_means = stats.kruskal(with_partner['pplfair'], alone['pplfair'], nan_policy='omit' )\n",
    "\n",
    "print('\\n')\n",
    "print(fair_means)\n",
    "\n",
    "if fair_means.pvalue > 0.05:\n",
    "    print('\\nThere is no statistically significant difference of belief if people are fair in 2012 between of married and single')\n",
    "else:\n",
    "    print('\\nThere is statistically significant difference of belief if people are fair in 2012 between of married and single' )\n",
    "        "
   ]
  },
  {
   "cell_type": "markdown",
   "metadata": {},
   "source": [
    "### 5. Pick three or four of the countries in the sample and compare how often people met socially in 2014.  Are there differences, and if so, which countries stand out?"
   ]
  },
  {
   "cell_type": "code",
   "execution_count": 29,
   "metadata": {
    "scrolled": true
   },
   "outputs": [
    {
     "data": {
      "text/plain": [
       "array(['CH', 'CZ', 'DE', 'ES', 'NO', 'SE'], dtype=object)"
      ]
     },
     "execution_count": 29,
     "metadata": {},
     "output_type": "execute_result"
    }
   ],
   "source": [
    "df.cntry.unique()"
   ]
  },
  {
   "cell_type": "code",
   "execution_count": 30,
   "metadata": {},
   "outputs": [],
   "source": [
    "countries=['CH', 'CZ','NO']"
   ]
  },
  {
   "cell_type": "code",
   "execution_count": 32,
   "metadata": {},
   "outputs": [],
   "source": [
    "CH_meet = df['sclmeet'][(df['cntry']== 'CH') & (df['year'] == 7)].dropna()\n",
    "CZ_meet = df['sclmeet'][(df['cntry']== 'CZ') & (df['year'] == 7)].dropna()\n",
    "NO_meet = df['sclmeet'][(df['cntry']== 'NO') & (df['year'] == 7)].dropna()"
   ]
  },
  {
   "cell_type": "code",
   "execution_count": 34,
   "metadata": {
    "scrolled": true
   },
   "outputs": [
    {
     "data": {
      "text/plain": [
       "Text(0.5, 1.0, 'NO')"
      ]
     },
     "execution_count": 34,
     "metadata": {},
     "output_type": "execute_result"
    },
    {
     "data": {
      "image/png": "[encoded data removed]",
      "text/plain": [
       "<Figure size 504x216 with 3 Axes>"
      ]
     },
     "metadata": {
      "needs_background": "light"
     },
     "output_type": "display_data"
    }
   ],
   "source": [
    "fig, axs = plt.subplots(1, 3, figsize=(7, 3))\n",
    "\n",
    "axs[0].hist(CH_meet)\n",
    "axs[1].hist(CZ_meet)\n",
    "axs[2].hist(NO_meet)\n",
    "\n",
    "fig.text(0.4, 1, '2014 SOCIAL MEET UP', size = 15, color='r')\n",
    "axs[0].set_title('CH')\n",
    "axs[1].set_title('CZ')\n",
    "axs[2].set_title('NO')"
   ]
  },
  {
   "cell_type": "code",
   "execution_count": 35,
   "metadata": {
    "scrolled": true
   },
   "outputs": [
    {
     "data": {
      "text/plain": [
       "Text(0.5, 1.0, 'NO')"
      ]
     },
     "execution_count": 35,
     "metadata": {},
     "output_type": "execute_result"
    },
    {
     "data": {
      "image/png": "[encoded data removed]",
      "text/plain": [
       "<Figure size 504x216 with 3 Axes>"
      ]
     },
     "metadata": {
      "needs_background": "light"
     },
     "output_type": "display_data"
    }
   ],
   "source": [
    "fig, axs = plt.subplots(1, 3, figsize=(7, 3))\n",
    "\n",
    "axs[0].boxplot(CH_meet)\n",
    "axs[1].boxplot(CZ_meet)\n",
    "axs[2].boxplot(NO_meet)\n",
    "\n",
    "fig.text(0.4, 1, '2014 SOCIAL MEET UP', size = 15, color='r')\n",
    "axs[0].set_title('CH')\n",
    "axs[1].set_title('CZ')\n",
    "axs[2].set_title('NO')"
   ]
  },
  {
   "cell_type": "code",
   "execution_count": 36,
   "metadata": {},
   "outputs": [
    {
     "data": {
      "text/plain": [
       "<function scipy.stats.stats.f_oneway(*args)>"
      ]
     },
     "execution_count": 36,
     "metadata": {},
     "output_type": "execute_result"
    }
   ],
   "source": [
    "stats.f_oneway"
   ]
  },
  {
   "cell_type": "code",
   "execution_count": 37,
   "metadata": {},
   "outputs": [
    {
     "name": "stdout",
     "output_type": "stream",
     "text": [
      "F statistic:  75.95511016819357 \n",
      "p-value:  1.330045357440723e-32\n"
     ]
    }
   ],
   "source": [
    "F, p = stats.f_oneway(CH_meet, CZ_meet, NO_meet)\n",
    "print('F statistic: ', F, '\\np-value: ', p)"
   ]
  },
  {
   "cell_type": "code",
   "execution_count": 38,
   "metadata": {},
   "outputs": [
    {
     "name": "stdout",
     "output_type": "stream",
     "text": [
      "CH mean: 5.160621761658031 CH count: 772\n",
      "CZ mean: 4.445801526717557 CZ count: 655\n",
      "NO mean: 5.3023255813953485 NO count: 731\n",
      "\n",
      "CH-CZ:  Ttest_indResult(statistic=9.675850699914886, pvalue=1.7204743885392493e-21)\n",
      "CH-NO:  Ttest_indResult(statistic=-2.067962986557216, pvalue=0.03881448528868391)\n",
      "Cz-NO:  Ttest_indResult(statistic=-11.269186128577815, pvalue=3.0334022155191707e-28)\n"
     ]
    }
   ],
   "source": [
    "print('CH mean:',CH_meet.mean() ,'CH count:', CH_meet.count())\n",
    "print('CZ mean:',CZ_meet.mean() ,'CZ count:', CZ_meet.count())\n",
    "print('NO mean:',NO_meet.mean() ,'NO count:', NO_meet.count())\n",
    "\n",
    "print('\\nCH-CZ: ',stats.ttest_ind(CH_meet, CZ_meet))\n",
    "print('CH-NO: ', stats.ttest_ind(CH_meet, NO_meet))\n",
    "print('CZ-NO: ',stats.ttest_ind(CZ_meet, NO_meet))"
   ]
  },
  {
   "cell_type": "markdown",
   "metadata": {},
   "source": [
    "#### One way ANOVA shows that there is a significant differences between groups. Using independent t-test to compare social encounter in each country show that there a significant difference when compared to each country. Norway are more social & Czeck Republic is least social between the 3 countries. "
   ]
  },
  {
   "cell_type": "code",
   "execution_count": null,
   "metadata": {},
   "outputs": [],
   "source": []
  },
  {
   "cell_type": "code",
   "execution_count": null,
   "metadata": {},
   "outputs": [],
   "source": []
  },
  {
   "cell_type": "code",
   "execution_count": null,
   "metadata": {},
   "outputs": [],
   "source": []
  },
  {
   "cell_type": "markdown",
   "metadata": {},
   "source": [
    "### 6. Pick three or four of the countries in the sample and compare how often people took part in social activities, relative to others in their age, in 2014.  Are there any differences?  If so, which countries stand out?"
   ]
  },
  {
   "cell_type": "code",
   "execution_count": 43,
   "metadata": {
    "scrolled": true
   },
   "outputs": [
    {
     "data": {
      "text/plain": [
       "array(['CH', 'CZ', 'DE', 'ES', 'NO', 'SE'], dtype=object)"
      ]
     },
     "execution_count": 43,
     "metadata": {},
     "output_type": "execute_result"
    }
   ],
   "source": [
    "df.cntry.unique()"
   ]
  },
  {
   "cell_type": "code",
   "execution_count": 44,
   "metadata": {
    "scrolled": true
   },
   "outputs": [
    {
     "data": {
      "text/plain": [
       "54.0     170\n",
       "46.0     169\n",
       "42.0     165\n",
       "52.0     163\n",
       "39.0     157\n",
       "        ... \n",
       "97.0       1\n",
       "101.0      1\n",
       "96.0       1\n",
       "103.0      1\n",
       "114.0      1\n",
       "Name: agea, Length: 83, dtype: int64"
      ]
     },
     "execution_count": 44,
     "metadata": {},
     "output_type": "execute_result"
    }
   ],
   "source": [
    "df.agea.value_counts()"
   ]
  },
  {
   "cell_type": "code",
   "execution_count": 45,
   "metadata": {},
   "outputs": [
    {
     "data": {
      "text/html": [
       "<div>\n",
       "<style scoped>\n",
       "    .dataframe tbody tr th:only-of-type {\n",
       "        vertical-align: middle;\n",
       "    }\n",
       "\n",
       "    .dataframe tbody tr th {\n",
       "        vertical-align: top;\n",
       "    }\n",
       "\n",
       "    .dataframe thead th {\n",
       "        text-align: right;\n",
       "    }\n",
       "</style>\n",
       "<table border=\"1\" class=\"dataframe\">\n",
       "  <thead>\n",
       "    <tr style=\"text-align: right;\">\n",
       "      <th></th>\n",
       "      <th>cntry</th>\n",
       "      <th>idno</th>\n",
       "      <th>year</th>\n",
       "      <th>tvtot</th>\n",
       "      <th>ppltrst</th>\n",
       "      <th>pplfair</th>\n",
       "      <th>pplhlp</th>\n",
       "      <th>happy</th>\n",
       "      <th>sclmeet</th>\n",
       "      <th>sclact</th>\n",
       "      <th>gndr</th>\n",
       "      <th>agea</th>\n",
       "      <th>partner</th>\n",
       "    </tr>\n",
       "  </thead>\n",
       "  <tbody>\n",
       "    <tr>\n",
       "      <th>0</th>\n",
       "      <td>CH</td>\n",
       "      <td>5.0</td>\n",
       "      <td>6</td>\n",
       "      <td>3.0</td>\n",
       "      <td>3.0</td>\n",
       "      <td>10.0</td>\n",
       "      <td>5.0</td>\n",
       "      <td>8.0</td>\n",
       "      <td>5.0</td>\n",
       "      <td>4.0</td>\n",
       "      <td>2.0</td>\n",
       "      <td>60.0</td>\n",
       "      <td>1.0</td>\n",
       "    </tr>\n",
       "    <tr>\n",
       "      <th>1</th>\n",
       "      <td>CH</td>\n",
       "      <td>25.0</td>\n",
       "      <td>6</td>\n",
       "      <td>6.0</td>\n",
       "      <td>5.0</td>\n",
       "      <td>7.0</td>\n",
       "      <td>5.0</td>\n",
       "      <td>9.0</td>\n",
       "      <td>3.0</td>\n",
       "      <td>2.0</td>\n",
       "      <td>2.0</td>\n",
       "      <td>59.0</td>\n",
       "      <td>1.0</td>\n",
       "    </tr>\n",
       "    <tr>\n",
       "      <th>2</th>\n",
       "      <td>CH</td>\n",
       "      <td>26.0</td>\n",
       "      <td>6</td>\n",
       "      <td>1.0</td>\n",
       "      <td>8.0</td>\n",
       "      <td>8.0</td>\n",
       "      <td>8.0</td>\n",
       "      <td>7.0</td>\n",
       "      <td>6.0</td>\n",
       "      <td>3.0</td>\n",
       "      <td>1.0</td>\n",
       "      <td>24.0</td>\n",
       "      <td>2.0</td>\n",
       "    </tr>\n",
       "    <tr>\n",
       "      <th>3</th>\n",
       "      <td>CH</td>\n",
       "      <td>28.0</td>\n",
       "      <td>6</td>\n",
       "      <td>4.0</td>\n",
       "      <td>6.0</td>\n",
       "      <td>6.0</td>\n",
       "      <td>7.0</td>\n",
       "      <td>10.0</td>\n",
       "      <td>6.0</td>\n",
       "      <td>2.0</td>\n",
       "      <td>2.0</td>\n",
       "      <td>64.0</td>\n",
       "      <td>1.0</td>\n",
       "    </tr>\n",
       "    <tr>\n",
       "      <th>4</th>\n",
       "      <td>CH</td>\n",
       "      <td>29.0</td>\n",
       "      <td>6</td>\n",
       "      <td>5.0</td>\n",
       "      <td>6.0</td>\n",
       "      <td>7.0</td>\n",
       "      <td>5.0</td>\n",
       "      <td>8.0</td>\n",
       "      <td>7.0</td>\n",
       "      <td>2.0</td>\n",
       "      <td>2.0</td>\n",
       "      <td>55.0</td>\n",
       "      <td>1.0</td>\n",
       "    </tr>\n",
       "  </tbody>\n",
       "</table>\n",
       "</div>"
      ],
      "text/plain": [
       "  cntry  idno  year  tvtot  ppltrst  pplfair  pplhlp  happy  sclmeet  sclact  \\\n",
       "0    CH   5.0     6    3.0      3.0     10.0     5.0    8.0      5.0     4.0   \n",
       "1    CH  25.0     6    6.0      5.0      7.0     5.0    9.0      3.0     2.0   \n",
       "2    CH  26.0     6    1.0      8.0      8.0     8.0    7.0      6.0     3.0   \n",
       "3    CH  28.0     6    4.0      6.0      6.0     7.0   10.0      6.0     2.0   \n",
       "4    CH  29.0     6    5.0      6.0      7.0     5.0    8.0      7.0     2.0   \n",
       "\n",
       "   gndr  agea  partner  \n",
       "0   2.0  60.0      1.0  \n",
       "1   2.0  59.0      1.0  \n",
       "2   1.0  24.0      2.0  \n",
       "3   2.0  64.0      1.0  \n",
       "4   2.0  55.0      1.0  "
      ]
     },
     "execution_count": 45,
     "metadata": {},
     "output_type": "execute_result"
    }
   ],
   "source": [
    "df.head()"
   ]
  },
  {
   "cell_type": "code",
   "execution_count": 46,
   "metadata": {},
   "outputs": [],
   "source": [
    "countries=['CH', 'CZ','NO', 'ES']"
   ]
  },
  {
   "cell_type": "code",
   "execution_count": null,
   "metadata": {},
   "outputs": [],
   "source": [
    "# Social Activity of age 25-50 yrs old between each country in year 2014"
   ]
  },
  {
   "cell_type": "code",
   "execution_count": 64,
   "metadata": {},
   "outputs": [],
   "source": [
    "CH_act = df['sclact'][(df['cntry'] == 'CH') & (df['year']==7) & ((df['agea']>=25) & (df['agea']<=50))].dropna()\n",
    "CZ_act = df['sclact'][(df['cntry'] == 'CZ') & (df['year']==7) & ((df['agea']>=25) & (df['agea']<=50))].dropna()\n",
    "NO_act = df['sclact'][(df['cntry'] == 'NO') & (df['year']==7) & ((df['agea']>=25) & (df['agea']<=50))].dropna()\n",
    "ES_act = df['sclact'][(df['cntry'] == 'ES') & (df['year']==7) & ((df['agea']>=25) & (df['agea']<=50))].dropna()\n"
   ]
  },
  {
   "cell_type": "code",
   "execution_count": 56,
   "metadata": {},
   "outputs": [],
   "source": [
    "age_cats = []\n",
    "\n",
    "for age in df['agea']:\n",
    "    if (age < 26.0):\n",
    "        age_cats.append('0-25')\n",
    "    elif (age >= 26.0) & (age < 51.0):\n",
    "        age_cats.append('25-50')\n",
    "    elif (age >= 51.0) & (age < 76.0):\n",
    "        age_cats.append('50-75')\n",
    "    elif (age >= 76.0):\n",
    "        age_cats.append('76-100')\n",
    "\n"
   ]
  },
  {
   "cell_type": "code",
   "execution_count": 88,
   "metadata": {},
   "outputs": [
    {
     "data": {
      "image/png": "[encoded data removed]",
      "text/plain": [
       "<Figure size 432x216 with 4 Axes>"
      ]
     },
     "metadata": {
      "needs_background": "light"
     },
     "output_type": "display_data"
    }
   ],
   "source": [
    "fig, axs = plt.subplots(1, 4, figsize=(6, 3))\n",
    "\n",
    "axs[0].hist(CH_act)\n",
    "axs[1].hist(CZ_act)\n",
    "axs[2].hist(NO_act)\n",
    "axs[3].hist(ES_act)\n",
    "\n",
    "fig.text(0.2, 1, '2014 Number of Social Activities of age 25-50 yrs old')\n",
    "axs[0].set_title('CH')\n",
    "axs[1].set_title('CZ')\n",
    "axs[2].set_title('NO')\n",
    "axs[3].set_title('ES')\n",
    "    \n",
    "plt.tight_layout()\n",
    "plt.show()"
   ]
  },
  {
   "cell_type": "code",
   "execution_count": 62,
   "metadata": {},
   "outputs": [
    {
     "name": "stdout",
     "output_type": "stream",
     "text": [
      "F statistic: 1.8091206899453425 \n",
      "p-value: 0.14357434447145748\n"
     ]
    }
   ],
   "source": [
    "F, p = stats.f_oneway(CH_act, CZ_act, NO_act, ES_act)\n",
    "print('F statistic:', F, '\\np-value:', p)"
   ]
  },
  {
   "cell_type": "code",
   "execution_count": 65,
   "metadata": {},
   "outputs": [
    {
     "name": "stdout",
     "output_type": "stream",
     "text": [
      "CH:  2.7850467289719627 321\n",
      "CZ:  2.6747404844290656 289\n",
      "NO:  2.822299651567944 287\n",
      "ES:  2.7251461988304095 513\n",
      "\n",
      "CH-CZ Ttest_indResult(statistic=1.677950024733471, pvalue=0.09387076060621836)\n",
      "CH-NO Ttest_indResult(statistic=-0.5520715833642303, pvalue=0.5811028463919434)\n",
      "CH-ES Ttest_indResult(statistic=0.9608804481701928, pvalue=0.33689144316089115)\n",
      "CZ-NO Ttest_indResult(statistic=-2.2441198388044343, pvalue=0.025204986939294006)\n",
      "CZ-ES Ttest_indResult(statistic=-0.8065008366042453, pvalue=0.420193809547585)\n",
      "NO-ES Ttest_indResult(statistic=1.5248410199018034, pvalue=0.1276949545815156)\n"
     ]
    }
   ],
   "source": [
    "print('CH: ', CH_act.mean(), CH_act.count())\n",
    "print('CZ: ', CZ_act.mean(), CZ_act.count())\n",
    "print('NO: ', NO_act.mean(), NO_act.count())\n",
    "print('ES: ', ES_act.mean(), ES_act.count())\n",
    "\n",
    "print('\\nCH-CZ', stats.ttest_ind(CH_act, CZ_act))\n",
    "print('CH-NO',stats.ttest_ind(CH_act, NO_act))\n",
    "print('CH-ES',stats.ttest_ind(CH_act, ES_act))\n",
    "print('CZ-NO',stats.ttest_ind(CZ_act, NO_act))\n",
    "print('CZ-ES',stats.ttest_ind(CZ_act, ES_act))\n",
    "print('NO-ES',stats.ttest_ind(NO_act, ES_act))"
   ]
  },
  {
   "cell_type": "markdown",
   "metadata": {},
   "source": [
    "#### ANOVA test result shows that there is no significant differences in social activity between group. When comparing each group using the t_test_ind, there is a significant difference in social activity for the age 25-50 years old between Czech Republic and Norway. Norway people has more social activities than Czech Republic."
   ]
  },
  {
   "cell_type": "code",
   "execution_count": null,
   "metadata": {},
   "outputs": [],
   "source": []
  }
 ],
 "metadata": {
  "kernelspec": {
   "display_name": "Python 3",
   "language": "python",
   "name": "python3"
  },
  "language_info": {
   "codemirror_mode": {
    "name": "ipython",
    "version": 3
   },
   "file_extension": ".py",
   "mimetype": "text/x-python",
   "name": "python",
   "nbconvert_exporter": "python",
   "pygments_lexer": "ipython3",
   "version": "3.7.4"
  }
 },
 "nbformat": 4,
 "nbformat_minor": 2
}
