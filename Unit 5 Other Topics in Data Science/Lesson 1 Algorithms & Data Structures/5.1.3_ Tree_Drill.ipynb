{
 "cells": [
  {
   "cell_type": "markdown",
   "metadata": {},
   "source": [
    "### DRILL:\n",
    "\n",
    "Implement a binary tree, which is filled with 15 pieces of random data. Your job is to then write a program to traverse the tree using a breadth first traversal. If you want additional practice, try other forms of traversal."
   ]
  },
  {
   "cell_type": "code",
   "execution_count": 9,
   "metadata": {},
   "outputs": [],
   "source": [
    "class Node:\n",
    "    def __init__(self, val):\n",
    "        self.left = None\n",
    "        self.right = None\n",
    "        self.val = val"
   ]
  },
  {
   "cell_type": "markdown",
   "metadata": {},
   "source": [
    "### Establish Root Node and Children"
   ]
  },
  {
   "cell_type": "code",
   "execution_count": 14,
   "metadata": {},
   "outputs": [],
   "source": [
    "root = Node('1')\n",
    "root.left = Node('2')\n",
    "root.right = Node('3')\n",
    "\n",
    "# Add children for D - Z\n",
    "root.left.left = Node('4')\n",
    "root.left.right = Node('5')\n",
    "root.right.left = Node('6')\n",
    "root.right.right = Node('7')\n",
    "root.left.left.left = Node('8')\n",
    "root.left.left.right = Node('9')\n",
    "root.left.right.left = Node('10')\n",
    "root.left.right.right = Node('11')\n",
    "root.right.left.left = Node('12')\n",
    "root.right.left.right = Node('13')\n",
    "root.right.right.left = Node('14')\n",
    "root.right.right.right = Node('15')\n",
    "root.left.left.left.left = Node('16')\n",
    "root.left.left.left.right = Node('17')\n",
    "root.left.left.right.left = Node('18')\n",
    "root.left.left.right.right = Node('19')\n",
    "root.left.right.left.left = Node('20')\n",
    "root.left.right.left.right = Node('21')\n",
    "root.right.left.left.left = Node('22')\n",
    "root.right.left.left.right = Node('23')\n",
    "root.right.right.right.right = Node('24')\n",
    "root.right.right.right.left = Node('25')\n",
    "root.right.right.left.right = Node('26')"
   ]
  },
  {
   "cell_type": "code",
   "execution_count": 15,
   "metadata": {},
   "outputs": [
    {
     "name": "stdout",
     "output_type": "stream",
     "text": [
      "<class '__main__.Node'>\n",
      "<__main__.Node object at 0x00000279B4F80508>\n"
     ]
    }
   ],
   "source": [
    "print(type(root))\n",
    "print(root)"
   ]
  },
  {
   "cell_type": "code",
   "execution_count": 16,
   "metadata": {},
   "outputs": [],
   "source": [
    "root_list = [root.val, root.left.val, root.right.val, root.left.left.val,\n",
    "             root.left.right.val, root.right.left.val, root.right.right.val,\n",
    "             root.left.left.left.val, root.left.left.right.val, \n",
    "             root.left.right.left.val, root.left.right.right.val,\n",
    "             root.right.left.left.val, root.right.left.right.val,\n",
    "             root.right.right.left.val, root.right.right.right.val,\n",
    "             root.left.left.left.left.val, root.left.left.left.right.val,\n",
    "             root.left.left.right.left.val, root.left.left.right.right.val,\n",
    "             root.left.right.left.left.val, root.left.right.left.right.val, \n",
    "             root.right.left.left.left.val, root.right.left.left.right.val,\n",
    "             root.right.right.right.right.val, root.right.right.right.left.val,\n",
    "             root.right.right.left.right.val\n",
    "            ]"
   ]
  },
  {
   "cell_type": "code",
   "execution_count": 17,
   "metadata": {},
   "outputs": [
    {
     "name": "stdout",
     "output_type": "stream",
     "text": [
      "['1']\n",
      "['1', '2']\n",
      "['1', '2', '3']\n",
      "['1', '2', '3', '4']\n",
      "['1', '2', '3', '4', '5']\n",
      "['1', '2', '3', '4', '5', '6']\n",
      "['1', '2', '3', '4', '5', '6', '7']\n",
      "['1', '2', '3', '4', '5', '6', '7', '8']\n",
      "['1', '2', '3', '4', '5', '6', '7', '8', '9']\n",
      "['1', '2', '3', '4', '5', '6', '7', '8', '9', '10']\n",
      "['1', '2', '3', '4', '5', '6', '7', '8', '9', '10', '11']\n",
      "['1', '2', '3', '4', '5', '6', '7', '8', '9', '10', '11', '12']\n",
      "['1', '2', '3', '4', '5', '6', '7', '8', '9', '10', '11', '12', '13']\n",
      "['1', '2', '3', '4', '5', '6', '7', '8', '9', '10', '11', '12', '13', '14']\n",
      "['1', '2', '3', '4', '5', '6', '7', '8', '9', '10', '11', '12', '13', '14', '15']\n",
      "['1', '2', '3', '4', '5', '6', '7', '8', '9', '10', '11', '12', '13', '14', '15', '16']\n",
      "['1', '2', '3', '4', '5', '6', '7', '8', '9', '10', '11', '12', '13', '14', '15', '16', '17']\n",
      "['1', '2', '3', '4', '5', '6', '7', '8', '9', '10', '11', '12', '13', '14', '15', '16', '17', '18']\n",
      "['1', '2', '3', '4', '5', '6', '7', '8', '9', '10', '11', '12', '13', '14', '15', '16', '17', '18', '19']\n",
      "['1', '2', '3', '4', '5', '6', '7', '8', '9', '10', '11', '12', '13', '14', '15', '16', '17', '18', '19', '20']\n",
      "['1', '2', '3', '4', '5', '6', '7', '8', '9', '10', '11', '12', '13', '14', '15', '16', '17', '18', '19', '20', '21']\n",
      "['1', '2', '3', '4', '5', '6', '7', '8', '9', '10', '11', '12', '13', '14', '15', '16', '17', '18', '19', '20', '21', '22']\n",
      "['1', '2', '3', '4', '5', '6', '7', '8', '9', '10', '11', '12', '13', '14', '15', '16', '17', '18', '19', '20', '21', '22', '23']\n",
      "['1', '2', '3', '4', '5', '6', '7', '8', '9', '10', '11', '12', '13', '14', '15', '16', '17', '18', '19', '20', '21', '22', '23', '24']\n",
      "['1', '2', '3', '4', '5', '6', '7', '8', '9', '10', '11', '12', '13', '14', '15', '16', '17', '18', '19', '20', '21', '22', '23', '24', '25']\n",
      "['1', '2', '3', '4', '5', '6', '7', '8', '9', '10', '11', '12', '13', '14', '15', '16', '17', '18', '19', '20', '21', '22', '23', '24', '25', '26']\n"
     ]
    }
   ],
   "source": [
    "traversal = []\n",
    "for n in root_list:\n",
    "    traversal.append(n)\n",
    "    print(traversal)"
   ]
  },
  {
   "cell_type": "code",
   "execution_count": null,
   "metadata": {},
   "outputs": [],
   "source": []
  },
  {
   "cell_type": "code",
   "execution_count": null,
   "metadata": {},
   "outputs": [],
   "source": [
    "traversal = []\n",
    "for i in root_list:\n",
    "    traversal.append(i)\n",
    "    print(traversal)\n",
    "\n",
    "print()\n",
    "print(traversal)"
   ]
  },
  {
   "cell_type": "code",
   "execution_count": 3,
   "metadata": {},
   "outputs": [],
   "source": [
    "# Establish initial root node and children\n",
    "root = Node('A')\n",
    "root.left = Node('B')\n",
    "root.right = Node('C')\n",
    "\n",
    "# Add children for D - Z\n",
    "root.left.left = Node('D')\n",
    "root.left.right = Node('E')\n",
    "root.right.left = Node('F')\n",
    "root.right.right = Node('G')\n",
    "root.left.left.left = Node('H')\n",
    "root.left.left.right = Node('I')\n",
    "root.left.right.left = Node('J')\n",
    "root.left.right.right = Node('K')\n",
    "root.right.left.left = Node('L')\n",
    "root.right.left.right = Node('M')\n",
    "root.right.right.left = Node('N')\n",
    "root.right.right.right = Node('O')\n",
    "root.left.left.left.left = Node('P')\n",
    "root.left.left.left.right = Node('Q')\n",
    "root.left.left.right.left = Node('R')\n",
    "root.left.left.right.right = Node('S')\n",
    "root.left.right.left.left = Node('T')\n",
    "root.left.right.left.right = Node('U')\n",
    "root.right.left.left.left = Node('V')\n",
    "root.right.left.left.right = Node('W')\n",
    "root.right.right.right.right = Node('X')\n",
    "root.right.right.right.left = Node('Y')\n",
    "root.right.right.left.right = Node('Z')"
   ]
  },
  {
   "cell_type": "code",
   "execution_count": 4,
   "metadata": {
    "scrolled": true
   },
   "outputs": [
    {
     "name": "stdout",
     "output_type": "stream",
     "text": [
      "<class '__main__.Node'>\n"
     ]
    }
   ],
   "source": [
    "print(type(root))"
   ]
  },
  {
   "cell_type": "code",
   "execution_count": 6,
   "metadata": {},
   "outputs": [],
   "source": [
    "root_list = [root.val, root.left.val, root.right.val, root.left.left.val,\n",
    "             root.left.right.val, root.right.left.val, root.right.right.val,\n",
    "             root.left.left.left.val, root.left.left.right.val, \n",
    "             root.left.right.left.val, root.left.right.right.val,\n",
    "             root.right.left.left.val, root.right.left.right.val,\n",
    "             root.right.right.left.val, root.right.right.right.val,\n",
    "             root.left.left.left.left.val, root.left.left.left.right.val,\n",
    "             root.left.left.right.left.val, root.left.left.right.right.val,\n",
    "             root.left.right.left.left.val, root.left.right.left.right.val, \n",
    "             root.right.left.left.left.val, root.right.left.left.right.val,\n",
    "             root.right.right.right.right.val, root.right.right.right.left.val,\n",
    "             root.right.right.left.right.val\n",
    "            ]"
   ]
  },
  {
   "cell_type": "code",
   "execution_count": 7,
   "metadata": {},
   "outputs": [
    {
     "name": "stdout",
     "output_type": "stream",
     "text": [
      "['A']\n",
      "['A', 'B']\n",
      "['A', 'B', 'C']\n",
      "['A', 'B', 'C', 'D']\n",
      "['A', 'B', 'C', 'D', 'E']\n",
      "['A', 'B', 'C', 'D', 'E', 'F']\n",
      "['A', 'B', 'C', 'D', 'E', 'F', 'G']\n",
      "['A', 'B', 'C', 'D', 'E', 'F', 'G', 'H']\n",
      "['A', 'B', 'C', 'D', 'E', 'F', 'G', 'H', 'I']\n",
      "['A', 'B', 'C', 'D', 'E', 'F', 'G', 'H', 'I', 'J']\n",
      "['A', 'B', 'C', 'D', 'E', 'F', 'G', 'H', 'I', 'J', 'K']\n",
      "['A', 'B', 'C', 'D', 'E', 'F', 'G', 'H', 'I', 'J', 'K', 'L']\n",
      "['A', 'B', 'C', 'D', 'E', 'F', 'G', 'H', 'I', 'J', 'K', 'L', 'M']\n",
      "['A', 'B', 'C', 'D', 'E', 'F', 'G', 'H', 'I', 'J', 'K', 'L', 'M', 'N']\n",
      "['A', 'B', 'C', 'D', 'E', 'F', 'G', 'H', 'I', 'J', 'K', 'L', 'M', 'N', 'O']\n",
      "['A', 'B', 'C', 'D', 'E', 'F', 'G', 'H', 'I', 'J', 'K', 'L', 'M', 'N', 'O', 'P']\n",
      "['A', 'B', 'C', 'D', 'E', 'F', 'G', 'H', 'I', 'J', 'K', 'L', 'M', 'N', 'O', 'P', 'Q']\n",
      "['A', 'B', 'C', 'D', 'E', 'F', 'G', 'H', 'I', 'J', 'K', 'L', 'M', 'N', 'O', 'P', 'Q', 'R']\n",
      "['A', 'B', 'C', 'D', 'E', 'F', 'G', 'H', 'I', 'J', 'K', 'L', 'M', 'N', 'O', 'P', 'Q', 'R', 'S']\n",
      "['A', 'B', 'C', 'D', 'E', 'F', 'G', 'H', 'I', 'J', 'K', 'L', 'M', 'N', 'O', 'P', 'Q', 'R', 'S', 'T']\n",
      "['A', 'B', 'C', 'D', 'E', 'F', 'G', 'H', 'I', 'J', 'K', 'L', 'M', 'N', 'O', 'P', 'Q', 'R', 'S', 'T', 'U']\n",
      "['A', 'B', 'C', 'D', 'E', 'F', 'G', 'H', 'I', 'J', 'K', 'L', 'M', 'N', 'O', 'P', 'Q', 'R', 'S', 'T', 'U', 'V']\n",
      "['A', 'B', 'C', 'D', 'E', 'F', 'G', 'H', 'I', 'J', 'K', 'L', 'M', 'N', 'O', 'P', 'Q', 'R', 'S', 'T', 'U', 'V', 'W']\n",
      "['A', 'B', 'C', 'D', 'E', 'F', 'G', 'H', 'I', 'J', 'K', 'L', 'M', 'N', 'O', 'P', 'Q', 'R', 'S', 'T', 'U', 'V', 'W', 'X']\n",
      "['A', 'B', 'C', 'D', 'E', 'F', 'G', 'H', 'I', 'J', 'K', 'L', 'M', 'N', 'O', 'P', 'Q', 'R', 'S', 'T', 'U', 'V', 'W', 'X', 'Y']\n",
      "['A', 'B', 'C', 'D', 'E', 'F', 'G', 'H', 'I', 'J', 'K', 'L', 'M', 'N', 'O', 'P', 'Q', 'R', 'S', 'T', 'U', 'V', 'W', 'X', 'Y', 'Z']\n",
      "\n",
      "['A', 'B', 'C', 'D', 'E', 'F', 'G', 'H', 'I', 'J', 'K', 'L', 'M', 'N', 'O', 'P', 'Q', 'R', 'S', 'T', 'U', 'V', 'W', 'X', 'Y', 'Z']\n"
     ]
    }
   ],
   "source": [
    "traversal = []\n",
    "for i in root_list:\n",
    "    traversal.append(i)\n",
    "    print(traversal)\n",
    "\n",
    "print()\n",
    "print(traversal)"
   ]
  },
  {
   "cell_type": "code",
   "execution_count": null,
   "metadata": {},
   "outputs": [],
   "source": []
  }
 ],
 "metadata": {
  "kernelspec": {
   "display_name": "Python 3",
   "language": "python",
   "name": "python3"
  },
  "language_info": {
   "codemirror_mode": {
    "name": "ipython",
    "version": 3
   },
   "file_extension": ".py",
   "mimetype": "text/x-python",
   "name": "python",
   "nbconvert_exporter": "python",
   "pygments_lexer": "ipython3",
   "version": "3.7.4"
  }
 },
 "nbformat": 4,
 "nbformat_minor": 2
}
